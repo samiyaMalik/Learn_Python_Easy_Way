{
 "cells": [
  {
   "cell_type": "markdown",
   "id": "786c2e7b",
   "metadata": {},
   "source": [
    "# EDA"
   ]
  },
  {
   "cell_type": "code",
   "execution_count": null,
   "id": "3fd7b794",
   "metadata": {},
   "outputs": [],
   "source": [
    "# Import necessary libraries\n",
    "import pandas as pd\n",
    "import matplotlib.pyplot as plt\n",
    "import seaborn as sns\n",
    "\n"
   ]
  },
  {
   "cell_type": "code",
   "execution_count": null,
   "id": "85884e17",
   "metadata": {},
   "outputs": [],
   "source": [
    "\n",
    "df = sns.load_dataset(\"iris\")\n",
    "df"
   ]
  },
  {
   "cell_type": "code",
   "execution_count": null,
   "id": "812cd72b",
   "metadata": {},
   "outputs": [],
   "source": [
    "df.head()"
   ]
  },
  {
   "cell_type": "code",
   "execution_count": null,
   "id": "9b048b66",
   "metadata": {},
   "outputs": [],
   "source": [
    "df.tail()"
   ]
  },
  {
   "cell_type": "code",
   "execution_count": null,
   "id": "2c3c5c3a",
   "metadata": {},
   "outputs": [],
   "source": [
    "df.describe()"
   ]
  },
  {
   "cell_type": "code",
   "execution_count": null,
   "id": "cc85d065",
   "metadata": {},
   "outputs": [],
   "source": [
    "df.info()"
   ]
  },
  {
   "cell_type": "code",
   "execution_count": null,
   "id": "c0461d1f",
   "metadata": {},
   "outputs": [],
   "source": [
    "df.dtypes"
   ]
  },
  {
   "cell_type": "code",
   "execution_count": null,
   "id": "8da2c0fd",
   "metadata": {},
   "outputs": [],
   "source": [
    "df.isnull().sum()*100/len(df)"
   ]
  },
  {
   "cell_type": "code",
   "execution_count": null,
   "id": "c512cdfe",
   "metadata": {},
   "outputs": [],
   "source": [
    "s= sns.load_dataset(\"titanic\")\n"
   ]
  },
  {
   "cell_type": "code",
   "execution_count": null,
   "id": "dee426e4",
   "metadata": {},
   "outputs": [],
   "source": [
    "s.describe()"
   ]
  },
  {
   "cell_type": "code",
   "execution_count": null,
   "id": "0399d267",
   "metadata": {},
   "outputs": [],
   "source": [
    "s.head()"
   ]
  },
  {
   "cell_type": "code",
   "execution_count": null,
   "id": "85873254",
   "metadata": {},
   "outputs": [],
   "source": [
    "s.info()"
   ]
  },
  {
   "cell_type": "code",
   "execution_count": null,
   "id": "872d1d03",
   "metadata": {},
   "outputs": [],
   "source": [
    "s.isnull()"
   ]
  },
  {
   "cell_type": "code",
   "execution_count": null,
   "id": "b0cb66f7",
   "metadata": {},
   "outputs": [],
   "source": [
    "s.isnull().sum()*100/len(s)"
   ]
  },
  {
   "cell_type": "code",
   "execution_count": null,
   "id": "b81584a6",
   "metadata": {},
   "outputs": [],
   "source": [
    "# how to deal with EDA missing value"
   ]
  },
  {
   "cell_type": "code",
   "execution_count": null,
   "id": "a2cbf96b",
   "metadata": {},
   "outputs": [],
   "source": [
    "s['age'].unique()"
   ]
  },
  {
   "cell_type": "code",
   "execution_count": null,
   "id": "45786c5f",
   "metadata": {},
   "outputs": [],
   "source": [
    "s[\"age\"].max()"
   ]
  },
  {
   "cell_type": "code",
   "execution_count": null,
   "id": "8c0715eb",
   "metadata": {},
   "outputs": [],
   "source": [
    "# Box plot to visualize distribution and detect outliers\n",
    "# plt.figure(figsize=(10, 6))\n",
    "sns.boxplot(x='species', y='sepal_length', data=iris)\n"
   ]
  },
  {
   "cell_type": "code",
   "execution_count": null,
   "id": "a1998272",
   "metadata": {},
   "outputs": [],
   "source": [
    "# Exclude non-numeric columns for correlation calculation\n",
    "numeric_columns = iris.select_dtypes(include=['float64', 'int64']).columns\n",
    "correlation_matrix = iris[numeric_columns].corr()\n",
    "\n",
    "\n",
    "\n",
    "\n",
    "plt.imshow(correlation_matrix, cmap='coolwarm', interpolation='none')\n",
    "plt.colorbar(label='Correlation Coefficient')\n",
    "plt.xticks(range(len(correlation_matrix)), correlation_matrix.columns, rotation=90)\n",
    "plt.yticks(range(len(correlation_matrix)), correlation_matrix.columns)\n",
    "\n"
   ]
  },
  {
   "cell_type": "code",
   "execution_count": null,
   "id": "019e7db9",
   "metadata": {},
   "outputs": [],
   "source": []
  }
 ],
 "metadata": {
  "kernelspec": {
   "display_name": "Python 3 (ipykernel)",
   "language": "python",
   "name": "python3"
  },
  "language_info": {
   "codemirror_mode": {
    "name": "ipython",
    "version": 3
   },
   "file_extension": ".py",
   "mimetype": "text/x-python",
   "name": "python",
   "nbconvert_exporter": "python",
   "pygments_lexer": "ipython3",
   "version": "3.11.5"
  }
 },
 "nbformat": 4,
 "nbformat_minor": 5
}
