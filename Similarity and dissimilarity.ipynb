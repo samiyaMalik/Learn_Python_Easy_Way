{
 "cells": [
  {
   "cell_type": "markdown",
   "id": "c4724e64",
   "metadata": {},
   "source": [
    "# Euclidean Distance or L2 Norm"
   ]
  },
  {
   "cell_type": "code",
   "execution_count": 64,
   "id": "0900cf24",
   "metadata": {},
   "outputs": [],
   "source": [
    "import scipy.spatial.distance as dist\n",
    "from scipy.spatial.distance import euclidean\n",
    "import numpy as np\n",
    "import pandas as pd"
   ]
  },
  {
   "cell_type": "code",
   "execution_count": 50,
   "id": "84833e8e",
   "metadata": {},
   "outputs": [],
   "source": [
    "# Prepare 2 vectors (data points) of 10 dimensions\n",
    "A = np.random.uniform(0, 10, 10)\n",
    "B = np.random.uniform(0, 10, 10)\n",
    "# A=pd.DataFrame(A)\n",
    "# B=pd.DataFrame(B)\n",
    "# result=pd.concat([A,B],axis=1)\n",
    "# result.columns=['A','B']\n",
    "# print(result)\n"
   ]
  },
  {
   "cell_type": "code",
   "execution_count": 51,
   "id": "d60a75a6",
   "metadata": {},
   "outputs": [
    {
     "data": {
      "text/plain": [
       "(10,)"
      ]
     },
     "execution_count": 51,
     "metadata": {},
     "output_type": "execute_result"
    }
   ],
   "source": [
    "np.shape(A)\n",
    "np.shape(B)"
   ]
  },
  {
   "cell_type": "markdown",
   "id": "98e61f03",
   "metadata": {},
   "source": [
    "### Perform distance measurements\n",
    "#### SciPy Library ka dist.euclidean() function:"
   ]
  },
  {
   "cell_type": "code",
   "execution_count": 53,
   "id": "24bcaa74",
   "metadata": {},
   "outputs": [
    {
     "name": "stdout",
     "output_type": "stream",
     "text": [
      "\n",
      "2 10-dimensional vectors\n",
      "[9.03301696 6.82472646 0.51051703 2.02789351 5.12946942 5.56112433\n",
      " 1.61366682 1.00051017 7.58755653 1.91222797]\n",
      "[9.19400108 4.19505241 2.42095315 3.50148604 1.11545913 4.19427289\n",
      " 3.18805983 4.0287522  2.82612275 5.78247521]\n",
      "\n",
      "Distance measurements with 10-dimensional vectors\n",
      "\n",
      "Euclidean distance is 8.946615700232226\n"
     ]
    }
   ],
   "source": [
    "print ('\\n2 10-dimensional vectors')\n",
    "print(A)\n",
    "print (B)\n",
    "# Perform distance measurements\n",
    "print ('\\nDistance measurements with 10-dimensional vectors')\n",
    "print ('\\nEuclidean distance is', dist.euclidean(A, B))"
   ]
  },
  {
   "cell_type": "markdown",
   "id": "b6c5cd4b",
   "metadata": {},
   "source": [
    "### Custom function for Euclidean distance:"
   ]
  },
  {
   "cell_type": "code",
   "execution_count": 54,
   "id": "b01982eb",
   "metadata": {},
   "outputs": [],
   "source": [
    "from math import sqrt"
   ]
  },
  {
   "cell_type": "code",
   "execution_count": 55,
   "id": "b1edddfd",
   "metadata": {},
   "outputs": [],
   "source": [
    "# calculate euclidean distance"
   ]
  },
  {
   "cell_type": "code",
   "execution_count": 60,
   "id": "14b1660f",
   "metadata": {},
   "outputs": [],
   "source": [
    "def euclidean_distance(a, b): \n",
    "    return sqrt(sum((e1-e2)**2  #Euclidean Dist  Formula\n",
    "                    for e1, e2 in zip(a,b)))"
   ]
  },
  {
   "cell_type": "code",
   "execution_count": 59,
   "id": "3926510f",
   "metadata": {},
   "outputs": [
    {
     "name": "stdout",
     "output_type": "stream",
     "text": [
      "6.082762530298219\n"
     ]
    }
   ],
   "source": [
    "e1 = [10, 20, 15, 10, 5]\n",
    "e2 = [12, 24, 18, 8, 7]\n",
    "dist = euclidean_distance(e1, e2)\n",
    "print(dist)"
   ]
  },
  {
   "cell_type": "code",
   "execution_count": 63,
   "id": "38b3c5ff",
   "metadata": {},
   "outputs": [
    {
     "name": "stdout",
     "output_type": "stream",
     "text": [
      "6.082762530298219\n"
     ]
    }
   ],
   "source": [
    "row1 = [10, 20, 15, 10, 5]\n",
    "row2 = [12, 24, 18, 8, 7]\n",
    "# calculate distance\n",
    "dist = euclidean(row1, row2)\n",
    "print(dist)"
   ]
  },
  {
   "cell_type": "markdown",
   "id": "1d1c3a9c",
   "metadata": {},
   "source": [
    "# Manhattan Distance"
   ]
  },
  {
   "cell_type": "code",
   "execution_count": 65,
   "id": "51b45df1",
   "metadata": {},
   "outputs": [],
   "source": [
    "from math import sqrt"
   ]
  },
  {
   "cell_type": "code",
   "execution_count": 67,
   "id": "42895c5d",
   "metadata": {},
   "outputs": [],
   "source": [
    "def manhattan_distance(a, b):\n",
    "    return sum(abs(e1-e2) for e1, e2 in zip(a,b))"
   ]
  },
  {
   "cell_type": "code",
   "execution_count": 69,
   "id": "d3d31ce2",
   "metadata": {},
   "outputs": [
    {
     "name": "stdout",
     "output_type": "stream",
     "text": [
      "13\n"
     ]
    }
   ],
   "source": [
    "# define data\n",
    "e1 = [10, 20, 15, 10, 5]\n",
    "e2 = [12, 24, 18, 8, 7]\n",
    "dist = manhattan_distance(e1, e2)\n",
    "print(dist)"
   ]
  },
  {
   "cell_type": "markdown",
   "id": "90e9c4b2",
   "metadata": {},
   "source": [
    "### using the cityblock() function"
   ]
  },
  {
   "cell_type": "code",
   "execution_count": 70,
   "id": "de3e3da4",
   "metadata": {},
   "outputs": [],
   "source": [
    "from scipy.spatial.distance import cityblock"
   ]
  },
  {
   "cell_type": "code",
   "execution_count": 73,
   "id": "d4ae0f08",
   "metadata": {},
   "outputs": [
    {
     "name": "stdout",
     "output_type": "stream",
     "text": [
      "13\n"
     ]
    }
   ],
   "source": [
    "# define data\n",
    "e1 = [10, 20, 15, 10, 5]\n",
    "e2 = [12, 24, 18, 8, 7]\n",
    "dist = cityblock(e1, e2)\n",
    "print(dist)"
   ]
  },
  {
   "cell_type": "markdown",
   "id": "068d9930",
   "metadata": {},
   "source": [
    "# Minkowski distance"
   ]
  },
  {
   "cell_type": "code",
   "execution_count": 74,
   "id": "95c15dd9",
   "metadata": {},
   "outputs": [],
   "source": [
    "from math import sqrt"
   ]
  },
  {
   "cell_type": "code",
   "execution_count": 79,
   "id": "5a05445d",
   "metadata": {},
   "outputs": [
    {
     "name": "stdout",
     "output_type": "stream",
     "text": [
      "13.0\n",
      "6.082762530298219\n"
     ]
    }
   ],
   "source": [
    "# calculate minkowski distance\n",
    "def minkowski_distance(a, b, p):\n",
    "    return sum(abs(e1-e2)**p for e1, e2 in zip(a,b))**(1/p)\n",
    "# define data\n",
    "e1 = [10, 20, 15, 10, 5]\n",
    "e2 = [12, 24, 18, 8, 7]\n",
    "# calculate distance (p=1)\n",
    "dist = minkowski_distance(e1, e2,1)\n",
    "print(dist)\n",
    "# calculate distance (p=2)\n",
    "dist = minkowski_distance(e1, e2, 2)\n",
    "print(dist)"
   ]
  },
  {
   "cell_type": "markdown",
   "id": "23c888d2",
   "metadata": {},
   "source": [
    "### using the minkowski_distance() function"
   ]
  },
  {
   "cell_type": "code",
   "execution_count": 81,
   "id": "f8c2f8e3",
   "metadata": {},
   "outputs": [
    {
     "name": "stdout",
     "output_type": "stream",
     "text": [
      "13.0\n",
      "6.082762530298219\n"
     ]
    }
   ],
   "source": [
    "# define data\n",
    "e1 = [10, 20, 15, 10, 5]\n",
    "e2 = [12, 24, 18, 8, 7]\n",
    "# calculate distance (p=1)\n",
    "dist = minkowski_distance(e1, e2, 1)\n",
    "print(dist)\n",
    "# calculate distance (p=2)\n",
    "dist = minkowski_distance(e1, e2, 2)\n",
    "print(dist)"
   ]
  },
  {
   "cell_type": "markdown",
   "id": "82d454c7",
   "metadata": {},
   "source": [
    "# Cosine Similarity"
   ]
  },
  {
   "cell_type": "code",
   "execution_count": 85,
   "id": "bc508568",
   "metadata": {},
   "outputs": [],
   "source": [
    "import numpy as np"
   ]
  },
  {
   "cell_type": "code",
   "execution_count": 99,
   "id": "8d71f85a",
   "metadata": {},
   "outputs": [],
   "source": [
    "def cosine_similarity(x, y):\n",
    "    if len(x) != len(y) :\n",
    "        return None\n",
    "    dot_product = np.dot(x, y)\n",
    "    magnitude_x = np.sqrt(np.sum(x**2))\n",
    "    magnitude_y = np.sqrt(np.sum(y**2))\n",
    "    cosine_similarity = dot_product / (magnitude_x * magnitude_y)\n",
    "    return cosine_similarity"
   ]
  },
  {
   "cell_type": "code",
   "execution_count": 100,
   "id": "29a9cf9b",
   "metadata": {},
   "outputs": [],
   "source": [
    "corpus = [ 'data science is one of the most important fields of science',\n",
    "           'this is one of the best data science courses',\n",
    "           'data scientists analyze data' ]"
   ]
  },
  {
   "cell_type": "code",
   "execution_count": 102,
   "id": "57d92605",
   "metadata": {},
   "outputs": [],
   "source": [
    "from sklearn.feature_extraction.text import CountVectorizer"
   ]
  },
  {
   "cell_type": "code",
   "execution_count": 103,
   "id": "f1074adf",
   "metadata": {},
   "outputs": [],
   "source": [
    "X = CountVectorizer().fit_transform(corpus).toarray()"
   ]
  },
  {
   "cell_type": "code",
   "execution_count": 105,
   "id": "8c8afff0",
   "metadata": {},
   "outputs": [
    {
     "name": "stdout",
     "output_type": "stream",
     "text": [
      "Cosine Similarity between: \n",
      "\tDocument 1 and Document 2:  0.6885303726590962\n",
      "\tDocument 1 and Document 3:  0.21081851067789195\n",
      "\tDocument 2 and Document 3:  0.2721655269759087\n"
     ]
    }
   ],
   "source": [
    "# Cosine similarity calculate karein\n",
    "cos_sim_1_2 = cosine_similarity(X[0, :], X[1, :])\n",
    "cos_sim_1_3 = cosine_similarity(X[0, :], X[2, :])\n",
    "cos_sim_2_3 = cosine_similarity(X[1, :], X[2, :])\n",
    "print('Cosine Similarity between: ')\n",
    "print('\\tDocument 1 and Document 2: ', cos_sim_1_2)\n",
    "print('\\tDocument 1 and Document 3: ', cos_sim_1_3)\n",
    "print('\\tDocument 2 and Document 3: ', cos_sim_2_3)"
   ]
  },
  {
   "cell_type": "code",
   "execution_count": 107,
   "id": "0a6364fd",
   "metadata": {},
   "outputs": [],
   "source": [
    "import numpy as np\n",
    "def jaccard_binary(x,y):\n",
    "    intersection = np.logical_and(x, y)\n",
    "    union = np.logical_or(x, y)\n",
    "    similarity = intersection.sum() / float(union.sum())\n",
    "    return similarity"
   ]
  },
  {
   "cell_type": "code",
   "execution_count": 116,
   "id": "ba2664c7",
   "metadata": {},
   "outputs": [
    {
     "name": "stdout",
     "output_type": "stream",
     "text": [
      " Similarity between x and y is 0.25 \n",
      " Similarity between x and z is  0.5 \n",
      "Similarity between x and z is  0.0\n"
     ]
    }
   ],
   "source": [
    "# Define some binary vectors\n",
    "x = [0,1,0,0,0,1,0,0,1]\n",
    "y = [0,0,1,0,0,0,0,0,1]\n",
    "z = [1,1,0,0,0,1,0,0,0]\n",
    "simxy = jaccard_binary(x,y)\n",
    "simxz = jaccard_binary(x,z)\n",
    "simyz = jaccard_binary(y,z)\n",
    "print(' Similarity between x and y is', simxy, '\\n Similarity between x and z is ', simxz, '\\nSimilarity between x and z is ', simyz)"
   ]
  },
  {
   "cell_type": "code",
   "execution_count": null,
   "id": "e0f2f08d",
   "metadata": {},
   "outputs": [],
   "source": []
  },
  {
   "cell_type": "code",
   "execution_count": null,
   "id": "1d77dce7",
   "metadata": {},
   "outputs": [],
   "source": []
  }
 ],
 "metadata": {
  "kernelspec": {
   "display_name": "Python 3 (ipykernel)",
   "language": "python",
   "name": "python3"
  },
  "language_info": {
   "codemirror_mode": {
    "name": "ipython",
    "version": 3
   },
   "file_extension": ".py",
   "mimetype": "text/x-python",
   "name": "python",
   "nbconvert_exporter": "python",
   "pygments_lexer": "ipython3",
   "version": "3.11.5"
  }
 },
 "nbformat": 4,
 "nbformat_minor": 5
}
