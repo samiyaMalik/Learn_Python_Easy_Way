{
 "cells": [
  {
   "cell_type": "markdown",
   "id": "fb279a50",
   "metadata": {},
   "source": [
    "# NumPy Operations"
   ]
  },
  {
   "cell_type": "code",
   "execution_count": 3,
   "id": "e9457842",
   "metadata": {},
   "outputs": [],
   "source": [
    "import numpy as np"
   ]
  },
  {
   "cell_type": "markdown",
   "id": "be1ba645",
   "metadata": {},
   "source": [
    "### Create a 1D array"
   ]
  },
  {
   "cell_type": "code",
   "execution_count": 4,
   "id": "0a4639c0",
   "metadata": {},
   "outputs": [
    {
     "name": "stdout",
     "output_type": "stream",
     "text": [
      "1D Array: [1 2 3 4]\n"
     ]
    }
   ],
   "source": [
    "arr =np.array([1,2,3,4])\n",
    "print(\"1D Array:\", arr)"
   ]
  },
  {
   "cell_type": "markdown",
   "id": "0a7c3b31",
   "metadata": {},
   "source": [
    "### Convert a list to a NumPy array"
   ]
  },
  {
   "cell_type": "code",
   "execution_count": 6,
   "id": "e2dd1101",
   "metadata": {},
   "outputs": [
    {
     "name": "stdout",
     "output_type": "stream",
     "text": [
      "Converted Array: [1 2 3 4]\n"
     ]
    }
   ],
   "source": [
    "list1 = [1,2,3,4]\n",
    "np_arr = np.array(list1)\n",
    "print(\"Converted Array:\", np_arr)"
   ]
  },
  {
   "cell_type": "markdown",
   "id": "756dd088",
   "metadata": {},
   "source": [
    "# Create a 2D array"
   ]
  },
  {
   "cell_type": "code",
   "execution_count": 11,
   "id": "25af4146",
   "metadata": {},
   "outputs": [
    {
     "name": "stdout",
     "output_type": "stream",
     "text": [
      "2D Array: [[1 2 3]\n",
      " [3 2 1]]\n"
     ]
    }
   ],
   "source": [
    "lista = [1, 2, 3]\n",
    "lista2 = [3, 2, 1]\n",
    "n = np.array([lista, lista2])\n",
    "print(\"2D Array:\", n)\n"
   ]
  },
  {
   "cell_type": "code",
   "execution_count": 12,
   "id": "637b3f6a",
   "metadata": {},
   "outputs": [
    {
     "name": "stdout",
     "output_type": "stream",
     "text": [
      "Shape of 2D Array: (2, 3)\n"
     ]
    }
   ],
   "source": [
    "print(\"Shape of 2D Array:\", n.shape)"
   ]
  },
  {
   "cell_type": "markdown",
   "id": "8d72707c",
   "metadata": {},
   "source": [
    "# Array Initialization Functions"
   ]
  },
  {
   "cell_type": "code",
   "execution_count": 13,
   "id": "8bb2f2e4",
   "metadata": {},
   "outputs": [
    {
     "name": "stdout",
     "output_type": "stream",
     "text": [
      "Array of Zeros: [0. 0. 0. 0.]\n"
     ]
    }
   ],
   "source": [
    "print(\"Array of Zeros:\", np.zeros(4))"
   ]
  },
  {
   "cell_type": "code",
   "execution_count": 14,
   "id": "d9d52815",
   "metadata": {},
   "outputs": [
    {
     "name": "stdout",
     "output_type": "stream",
     "text": [
      "Array of Ones (5x5): [[1. 1. 1. 1. 1.]\n",
      " [1. 1. 1. 1. 1.]\n",
      " [1. 1. 1. 1. 1.]\n",
      " [1. 1. 1. 1. 1.]\n",
      " [1. 1. 1. 1. 1.]]\n"
     ]
    }
   ],
   "source": [
    "print(\"Array of Ones (5x5):\", np.ones([5,5]))"
   ]
  },
  {
   "cell_type": "code",
   "execution_count": 15,
   "id": "9b4fcb0d",
   "metadata": {},
   "outputs": [
    {
     "name": "stdout",
     "output_type": "stream",
     "text": [
      "Empty Array: [6.23042070e-307 4.67296746e-307 1.69121096e-306 1.29061074e-306\n",
      " 5.94313193e+247]\n"
     ]
    }
   ],
   "source": [
    "print(\"Empty Array:\", np.empty(5))"
   ]
  },
  {
   "cell_type": "code",
   "execution_count": 16,
   "id": "6a7da2bf",
   "metadata": {},
   "outputs": [
    {
     "name": "stdout",
     "output_type": "stream",
     "text": [
      "Array using arange(5,23): [ 5  6  7  8  9 10 11 12 13 14 15 16 17 18 19 20 21 22]\n"
     ]
    }
   ],
   "source": [
    "print(\"Array using arange(5,23):\", np.arange(5,23))"
   ]
  },
  {
   "cell_type": "markdown",
   "id": "02e2e8db",
   "metadata": {},
   "source": [
    "# Array Slicing and Manipulation"
   ]
  },
  {
   "cell_type": "code",
   "execution_count": 87,
   "id": "f799d87f",
   "metadata": {},
   "outputs": [
    {
     "name": "stdout",
     "output_type": "stream",
     "text": [
      "Original 2D Array: [[ 1  2  3  4]\n",
      " [ 8  9 10 11]]\n"
     ]
    }
   ],
   "source": [
    "\n",
    "arr1 = np.array([[1,2,3,4],[8,9,10,11]])\n",
    "print(\"Original 2D Array:\", arr1)"
   ]
  },
  {
   "cell_type": "code",
   "execution_count": 18,
   "id": "ab171a18",
   "metadata": {},
   "outputs": [
    {
     "name": "stdout",
     "output_type": "stream",
     "text": [
      "Slice of 1D Array: [2 3 4]\n"
     ]
    }
   ],
   "source": [
    "print(\"Slice of 1D Array:\", arr[1:5])\n"
   ]
  },
  {
   "cell_type": "code",
   "execution_count": 24,
   "id": "d8509791",
   "metadata": {},
   "outputs": [
    {
     "name": "stdout",
     "output_type": "stream",
     "text": [
      "Modified Array: [10 10 10 10]\n"
     ]
    }
   ],
   "source": [
    "arr[0:5] = 10\n",
    "print(\"Modified Array:\", arr)"
   ]
  },
  {
   "cell_type": "code",
   "execution_count": 25,
   "id": "f182dcfb",
   "metadata": {},
   "outputs": [
    {
     "name": "stdout",
     "output_type": "stream",
     "text": [
      "Slice of Modified Array: [10 10 10 10]\n"
     ]
    }
   ],
   "source": [
    "slice_of_arr = arr[0:6]\n",
    "print(\"Slice of Modified Array:\", slice_of_arr)"
   ]
  },
  {
   "cell_type": "code",
   "execution_count": 27,
   "id": "a5fcfa1c",
   "metadata": {},
   "outputs": [
    {
     "name": "stdout",
     "output_type": "stream",
     "text": [
      "Copy of Array: [10 10 10 10]\n"
     ]
    }
   ],
   "source": [
    "arr_copy = arr.copy()\n",
    "print(\"Copy of Array:\", arr_copy)"
   ]
  },
  {
   "cell_type": "code",
   "execution_count": 29,
   "id": "db223ab9",
   "metadata": {},
   "outputs": [
    {
     "name": "stdout",
     "output_type": "stream",
     "text": [
      "Original 2D Array: [[1 3 5]\n",
      " [3 5 1]\n",
      " [3 2 1]]\n"
     ]
    }
   ],
   "source": [
    "arr_2d = np.array([[1,3,5],[3,5,1],[3,2,1]])\n",
    "print(\"Original 2D Array:\", arr_2d)"
   ]
  },
  {
   "cell_type": "code",
   "execution_count": 30,
   "id": "4500d69c",
   "metadata": {},
   "outputs": [
    {
     "name": "stdout",
     "output_type": "stream",
     "text": [
      "Slice of 2D Array: [3 5 1]\n"
     ]
    }
   ],
   "source": [
    "print(\"Slice of 2D Array:\", arr_2d[1])"
   ]
  },
  {
   "cell_type": "code",
   "execution_count": 31,
   "id": "4ab3c5ee",
   "metadata": {},
   "outputs": [
    {
     "name": "stdout",
     "output_type": "stream",
     "text": [
      "Slicing Rows and Columns:\n",
      "[[3 5]\n",
      " [5 1]]\n"
     ]
    }
   ],
   "source": [
    "print(\"Slicing Rows and Columns:\")\n",
    "print(arr_2d[:2,1:])"
   ]
  },
  {
   "cell_type": "code",
   "execution_count": 32,
   "id": "f1aa6470",
   "metadata": {},
   "outputs": [
    {
     "name": "stdout",
     "output_type": "stream",
     "text": [
      "[3 5 2]\n"
     ]
    }
   ],
   "source": [
    "print(arr_2d[:,1])"
   ]
  },
  {
   "cell_type": "markdown",
   "id": "eeee0314",
   "metadata": {},
   "source": [
    "# Matrix Operations"
   ]
  },
  {
   "cell_type": "code",
   "execution_count": 39,
   "id": "f07a6fb4",
   "metadata": {},
   "outputs": [
    {
     "name": "stdout",
     "output_type": "stream",
     "text": [
      "2D Array of Zeros (10x10): [[0. 0. 0. 0. 0. 0. 0. 0. 0. 0.]\n",
      " [0. 0. 0. 0. 0. 0. 0. 0. 0. 0.]\n",
      " [0. 0. 0. 0. 0. 0. 0. 0. 0. 0.]\n",
      " [0. 0. 0. 0. 0. 0. 0. 0. 0. 0.]\n",
      " [0. 0. 0. 0. 0. 0. 0. 0. 0. 0.]\n",
      " [0. 0. 0. 0. 0. 0. 0. 0. 0. 0.]\n",
      " [0. 0. 0. 0. 0. 0. 0. 0. 0. 0.]\n",
      " [0. 0. 0. 0. 0. 0. 0. 0. 0. 0.]\n",
      " [0. 0. 0. 0. 0. 0. 0. 0. 0. 0.]\n",
      " [0. 0. 0. 0. 0. 0. 0. 0. 0. 0.]]\n"
     ]
    }
   ],
   "source": [
    "arr2d = np.zeros((10,10))\n",
    "print(\"2D Array of Zeros (10x10):\", arr2d)"
   ]
  },
  {
   "cell_type": "code",
   "execution_count": 41,
   "id": "30e0812a",
   "metadata": {},
   "outputs": [
    {
     "name": "stdout",
     "output_type": "stream",
     "text": [
      "2D Array of Range (10x5): [[ 0  1  2  3  4]\n",
      " [ 5  6  7  8  9]\n",
      " [10 11 12 13 14]\n",
      " [15 16 17 18 19]\n",
      " [20 21 22 23 24]\n",
      " [25 26 27 28 29]\n",
      " [30 31 32 33 34]\n",
      " [35 36 37 38 39]\n",
      " [40 41 42 43 44]\n",
      " [45 46 47 48 49]]\n"
     ]
    }
   ],
   "source": [
    "arr = np.arange(50).reshape((10,5))\n",
    "print(\"2D Array of Range (10x5):\", arr)"
   ]
  },
  {
   "cell_type": "code",
   "execution_count": 44,
   "id": "4d6470b3",
   "metadata": {},
   "outputs": [
    {
     "name": "stdout",
     "output_type": "stream",
     "text": [
      "Transpose of Array:\n",
      "[[ 0  5 10 15 20 25 30 35 40 45]\n",
      " [ 1  6 11 16 21 26 31 36 41 46]\n",
      " [ 2  7 12 17 22 27 32 37 42 47]\n",
      " [ 3  8 13 18 23 28 33 38 43 48]\n",
      " [ 4  9 14 19 24 29 34 39 44 49]]\n"
     ]
    }
   ],
   "source": [
    "print(\"Transpose of Array:\")\n",
    "print(arr.T)"
   ]
  },
  {
   "cell_type": "code",
   "execution_count": 43,
   "id": "2f6b14fc",
   "metadata": {},
   "outputs": [
    {
     "name": "stdout",
     "output_type": "stream",
     "text": [
      "Dot Product of Transpose and Original Array:\n",
      "[[7125 7350 7575 7800 8025]\n",
      " [7350 7585 7820 8055 8290]\n",
      " [7575 7820 8065 8310 8555]\n",
      " [7800 8055 8310 8565 8820]\n",
      " [8025 8290 8555 8820 9085]]\n"
     ]
    }
   ],
   "source": [
    "print(\"Dot Product of Transpose and Original Array:\")\n",
    "print(np.dot(arr.T,arr))"
   ]
  },
  {
   "cell_type": "markdown",
   "id": "c6b69c4e",
   "metadata": {},
   "source": [
    "# Pandas Operations"
   ]
  },
  {
   "cell_type": "code",
   "execution_count": 45,
   "id": "6f831e01",
   "metadata": {},
   "outputs": [],
   "source": [
    "import pandas as pd\n",
    "from pandas import Series, DataFrame"
   ]
  },
  {
   "cell_type": "markdown",
   "id": "199968f4",
   "metadata": {},
   "source": [
    "### Creating and Manipulating Series"
   ]
  },
  {
   "cell_type": "code",
   "execution_count": 49,
   "id": "d9be5110",
   "metadata": {},
   "outputs": [
    {
     "name": "stdout",
     "output_type": "stream",
     "text": [
      "Series Object: 0     3\n",
      "1     6\n",
      "2     9\n",
      "3    12\n",
      "dtype: int64\n"
     ]
    }
   ],
   "source": [
    "obj = Series([3,6,9,12])\n",
    "print(\"Series Object:\", obj)"
   ]
  },
  {
   "cell_type": "code",
   "execution_count": 50,
   "id": "50019b89",
   "metadata": {},
   "outputs": [
    {
     "name": "stdout",
     "output_type": "stream",
     "text": [
      "Values in Series: [ 3  6  9 12]\n"
     ]
    }
   ],
   "source": [
    "print(\"Values in Series:\", obj.values)"
   ]
  },
  {
   "cell_type": "code",
   "execution_count": 51,
   "id": "6dac7f4b",
   "metadata": {},
   "outputs": [
    {
     "name": "stdout",
     "output_type": "stream",
     "text": [
      "Index of Series: RangeIndex(start=0, stop=4, step=1)\n"
     ]
    }
   ],
   "source": [
    "print(\"Index of Series:\", obj.index)"
   ]
  },
  {
   "cell_type": "markdown",
   "id": "bdc7e80b",
   "metadata": {},
   "source": [
    "### Reindexing Series"
   ]
  },
  {
   "cell_type": "code",
   "execution_count": 52,
   "id": "5193972c",
   "metadata": {},
   "outputs": [
    {
     "name": "stdout",
     "output_type": "stream",
     "text": [
      "Original Series: A    1\n",
      "B    2\n",
      "C    3\n",
      "D    4\n",
      "dtype: int64\n"
     ]
    }
   ],
   "source": [
    "my_ser = Series([1,2,3,4], index=['A','B','C','D'])\n",
    "print(\"Original Series:\", my_ser)"
   ]
  },
  {
   "cell_type": "code",
   "execution_count": 55,
   "id": "df04cb75",
   "metadata": {},
   "outputs": [
    {
     "name": "stdout",
     "output_type": "stream",
     "text": [
      "Index of Series: Index(['A', 'B', 'C', 'D'], dtype='object')\n"
     ]
    }
   ],
   "source": [
    "my_index = my_ser.index\n",
    "print(\"Index of Series:\", my_index)"
   ]
  },
  {
   "cell_type": "code",
   "execution_count": 56,
   "id": "0924d241",
   "metadata": {},
   "outputs": [
    {
     "name": "stdout",
     "output_type": "stream",
     "text": [
      "Sliced Index: Index(['C', 'D'], dtype='object')\n"
     ]
    }
   ],
   "source": [
    "print(\"Sliced Index:\", my_index[2:])"
   ]
  },
  {
   "cell_type": "code",
   "execution_count": 60,
   "id": "28218ce9",
   "metadata": {},
   "outputs": [
    {
     "name": "stdout",
     "output_type": "stream",
     "text": [
      "Reindexed Series with new Index: A    1.0\n",
      "B    2.0\n",
      "C    3.0\n",
      "D    4.0\n",
      "E    NaN\n",
      "F    NaN\n",
      "dtype: float64\n",
      "Reindexed Series with fill value: A    1.0\n",
      "B    2.0\n",
      "C    3.0\n",
      "D    4.0\n",
      "E    NaN\n",
      "F    NaN\n",
      "G    0.0\n",
      "dtype: float64\n"
     ]
    }
   ],
   "source": [
    "ser_2 = my_ser.reindex(['A','B','C','D','E','F'])\n",
    "print(\"Reindexed Series with new Index:\", ser_2)\n",
    "print(\"Reindexed Series with fill value:\", ser_2.reindex(['A','B','C','D','E','F','G'], fill_value=0))"
   ]
  },
  {
   "cell_type": "code",
   "execution_count": null,
   "id": "693c58ea",
   "metadata": {},
   "outputs": [],
   "source": [
    "ser_3 = Series(['USA','Mexico','Canada'], index=[0,3,10])\n",
    "print(\"Series with Gaps Filled Using Forward Fill:\")\n",
    "print(ser_3.reindex(range(15), method='ffill'))"
   ]
  },
  {
   "cell_type": "markdown",
   "id": "a8c43b95",
   "metadata": {},
   "source": [
    "### Creating and Manipulating DataFrames"
   ]
  },
  {
   "cell_type": "code",
   "execution_count": 65,
   "id": "7fb979b2",
   "metadata": {},
   "outputs": [],
   "source": [
    "data = {\n",
    "    'Name': ['Jai', 'Princi', 'Gaurav', 'Anuj'],\n",
    "    'Height': [5.1, 6.2, 5.1, 5.2],\n",
    "    'Qualification': ['Msc', 'MA', 'Msc', 'Msc']\n",
    "}"
   ]
  },
  {
   "cell_type": "code",
   "execution_count": 66,
   "id": "a42a063a",
   "metadata": {},
   "outputs": [],
   "source": [
    "df = pd.DataFrame(data)"
   ]
  },
  {
   "cell_type": "code",
   "execution_count": 67,
   "id": "99612391",
   "metadata": {},
   "outputs": [
    {
     "name": "stdout",
     "output_type": "stream",
     "text": [
      "DataFrame:\n",
      "     Name  Height Qualification\n",
      "0     Jai     5.1           Msc\n",
      "1  Princi     6.2            MA\n",
      "2  Gaurav     5.1           Msc\n",
      "3    Anuj     5.2           Msc\n"
     ]
    }
   ],
   "source": [
    "print(\"DataFrame:\")\n",
    "print(df)"
   ]
  },
  {
   "cell_type": "markdown",
   "id": "939e2f39",
   "metadata": {},
   "source": [
    "# Adding a new column to DataFrame"
   ]
  },
  {
   "cell_type": "code",
   "execution_count": 71,
   "id": "7f55df44",
   "metadata": {},
   "outputs": [],
   "source": [
    "address = ['Delhi', 'Bangalore', 'Chennai', 'Patna']\n",
    "df['Address'] = address\n"
   ]
  },
  {
   "cell_type": "code",
   "execution_count": 72,
   "id": "e07f98cc",
   "metadata": {},
   "outputs": [
    {
     "name": "stdout",
     "output_type": "stream",
     "text": [
      "DataFrame with New Column 'Address':\n",
      "     Name  Height Qualification    Address\n",
      "0     Jai     5.1           Msc      Delhi\n",
      "1  Princi     6.2            MA  Bangalore\n",
      "2  Gaurav     5.1           Msc    Chennai\n",
      "3    Anuj     5.2           Msc      Patna\n"
     ]
    }
   ],
   "source": [
    "print(\"DataFrame with New Column 'Address':\")\n",
    "print(df)"
   ]
  },
  {
   "cell_type": "markdown",
   "id": "af4c1e1b",
   "metadata": {},
   "source": [
    "# Inserting a new column at specific position"
   ]
  },
  {
   "cell_type": "code",
   "execution_count": 75,
   "id": "0acb58e0",
   "metadata": {},
   "outputs": [],
   "source": [
    "df.insert(2, \"Age\", [21, 23, 24, 21], True)"
   ]
  },
  {
   "cell_type": "code",
   "execution_count": 80,
   "id": "8d05f8cb",
   "metadata": {},
   "outputs": [
    {
     "name": "stdout",
     "output_type": "stream",
     "text": [
      "DataFrame with Age Inserted:\n",
      "     Name  Height  Age  Age Qualification    Address\n",
      "0     Jai     5.1   21   21           Msc      Delhi\n",
      "1  Princi     6.2   23   23            MA  Bangalore\n",
      "2  Gaurav     5.1   24   24           Msc    Chennai\n",
      "3    Anuj     5.2   21   21           Msc      Patna\n"
     ]
    }
   ],
   "source": [
    "print(\"DataFrame with Age Inserted:\")\n",
    "print(df)"
   ]
  },
  {
   "cell_type": "markdown",
   "id": "05c71b18",
   "metadata": {},
   "source": [
    "# Dropping rows and columns from DataFrame"
   ]
  },
  {
   "cell_type": "code",
   "execution_count": 84,
   "id": "5d23414c",
   "metadata": {},
   "outputs": [
    {
     "name": "stdout",
     "output_type": "stream",
     "text": [
      "DataFrame After Dropping 'LA':\n"
     ]
    },
    {
     "ename": "NameError",
     "evalue": "name 'dframe1' is not defined",
     "output_type": "error",
     "traceback": [
      "\u001b[1;31m---------------------------------------------------------------------------\u001b[0m",
      "\u001b[1;31mNameError\u001b[0m                                 Traceback (most recent call last)",
      "Cell \u001b[1;32mIn[84], line 2\u001b[0m\n\u001b[0;32m      1\u001b[0m \u001b[38;5;28mprint\u001b[39m(\u001b[38;5;124m\"\u001b[39m\u001b[38;5;124mDataFrame After Dropping \u001b[39m\u001b[38;5;124m'\u001b[39m\u001b[38;5;124mLA\u001b[39m\u001b[38;5;124m'\u001b[39m\u001b[38;5;124m:\u001b[39m\u001b[38;5;124m\"\u001b[39m)\n\u001b[1;32m----> 2\u001b[0m \u001b[38;5;28mprint\u001b[39m(dframe1\u001b[38;5;241m.\u001b[39mdrop(\u001b[38;5;124m'\u001b[39m\u001b[38;5;124mLA\u001b[39m\u001b[38;5;124m'\u001b[39m))\n",
      "\u001b[1;31mNameError\u001b[0m: name 'dframe1' is not defined"
     ]
    }
   ],
   "source": [
    "print(\"DataFrame After Dropping 'LA':\")\n",
    "print(dframe1.drop('LA'))"
   ]
  },
  {
   "cell_type": "code",
   "execution_count": 85,
   "id": "587da533",
   "metadata": {},
   "outputs": [
    {
     "name": "stdout",
     "output_type": "stream",
     "text": [
      "DataFrame After Dropping 'year' column:\n"
     ]
    },
    {
     "ename": "NameError",
     "evalue": "name 'dframe1' is not defined",
     "output_type": "error",
     "traceback": [
      "\u001b[1;31m---------------------------------------------------------------------------\u001b[0m",
      "\u001b[1;31mNameError\u001b[0m                                 Traceback (most recent call last)",
      "Cell \u001b[1;32mIn[85], line 2\u001b[0m\n\u001b[0;32m      1\u001b[0m \u001b[38;5;28mprint\u001b[39m(\u001b[38;5;124m\"\u001b[39m\u001b[38;5;124mDataFrame After Dropping \u001b[39m\u001b[38;5;124m'\u001b[39m\u001b[38;5;124myear\u001b[39m\u001b[38;5;124m'\u001b[39m\u001b[38;5;124m column:\u001b[39m\u001b[38;5;124m\"\u001b[39m)\n\u001b[1;32m----> 2\u001b[0m \u001b[38;5;28mprint\u001b[39m(dframe1\u001b[38;5;241m.\u001b[39mdrop(\u001b[38;5;124m'\u001b[39m\u001b[38;5;124myear\u001b[39m\u001b[38;5;124m'\u001b[39m, axis\u001b[38;5;241m=\u001b[39m\u001b[38;5;241m1\u001b[39m))\n",
      "\u001b[1;31mNameError\u001b[0m: name 'dframe1' is not defined"
     ]
    }
   ],
   "source": [
    "print(\"DataFrame After Dropping 'year' column:\")\n",
    "print(dframe1.drop('year', axis=1))"
   ]
  },
  {
   "cell_type": "code",
   "execution_count": 88,
   "id": "ac57446c",
   "metadata": {},
   "outputs": [
    {
     "name": "stdout",
     "output_type": "stream",
     "text": [
      "[10, 'hello', 3.14, True]\n"
     ]
    }
   ],
   "source": [
    "# Creating a Python list\n",
    "my_list = [10, 'hello', 3.14, True]\n",
    "print(my_list)\n"
   ]
  },
  {
   "cell_type": "code",
   "execution_count": 102,
   "id": "b70ff23c",
   "metadata": {},
   "outputs": [
    {
     "name": "stdout",
     "output_type": "stream",
     "text": [
      "a    10\n",
      "b    20\n",
      "c    30\n",
      "d    40\n",
      "dtype: int64\n"
     ]
    }
   ],
   "source": [
    "# Creating a Pandas Series\n",
    "s = pd.Series([10, 20, 30, 40], index=['a', 'b', 'c', 'd'])\n",
    "print(s)\n"
   ]
  }
 ],
 "metadata": {
  "kernelspec": {
   "display_name": "Python 3 (ipykernel)",
   "language": "python",
   "name": "python3"
  },
  "language_info": {
   "codemirror_mode": {
    "name": "ipython",
    "version": 3
   },
   "file_extension": ".py",
   "mimetype": "text/x-python",
   "name": "python",
   "nbconvert_exporter": "python",
   "pygments_lexer": "ipython3",
   "version": "3.11.5"
  }
 },
 "nbformat": 4,
 "nbformat_minor": 5
}
