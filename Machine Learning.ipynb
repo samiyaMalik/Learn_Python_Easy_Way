{
 "cells": [
  {
   "cell_type": "markdown",
   "id": "01f09b1d",
   "metadata": {},
   "source": [
    "# Machine learning \n",
    "### is data  drivin decsion making baase own previous experince"
   ]
  },
  {
   "cell_type": "markdown",
   "id": "ca097028",
   "metadata": {},
   "source": [
    "# Supervised Learning:\n",
    "    1:Linear Regression\n",
    "    2:Logistic Regression\n",
    "    3:Decision Trees\n",
    "    4:Random Forest\n",
    "    5:Support Vector Machines (SVM)\n",
    "    6:k-Nearest Neighbors (k-NN)\n",
    "    7:Naive Bayes\n",
    "    8:Neural Networks (Deep Learning)\n",
    "    9:Gradient Boosting Machines"
   ]
  },
  {
   "cell_type": "markdown",
   "id": "243dfba4",
   "metadata": {},
   "source": [
    "# Classification Evaluation Metrics:\n",
    "\n",
    "    Accuracy\n",
    "    Precision\n",
    "    Recall (Sensitivity)\n",
    "    F1 Score\n",
    "    Specificity\n",
    "    Area Under the Receiver Operating Characteristic (ROC-AUC)\n",
    "    Confusion Matrix\n",
    "    Matthews Correlation Coefficient (MCC)"
   ]
  },
  {
   "cell_type": "markdown",
   "id": "dab0b6a8",
   "metadata": {},
   "source": [
    "# Regression Evaluation Metrics:\n",
    "    Mean Absolute Error (MAE)\n",
    "    Mean Squared Error (MSE)\n",
    "    Root Mean Squared Error (RMSE)\n",
    "    R-squared (Coefficient of Determination)\n",
    "    Mean Absolute Percentage Error (MAPE)"
   ]
  },
  {
   "cell_type": "markdown",
   "id": "657230d5",
   "metadata": {},
   "source": [
    "# important librarires python\n",
    "    1:scikit-learn: \n",
    "    2:TensorFlow:\n",
    "    3:PyTorch: \n",
    "    4:Keras:\n",
    "    5:NumPy:"
   ]
  },
  {
   "cell_type": "markdown",
   "id": "9f409549",
   "metadata": {},
   "source": [
    "# Unsupervised Learning:\n",
    "    1:K-Means Clustering\n",
    "    2:Hierarchical Clustering\n",
    "    3:Principal Component Analysis (PCA)\n",
    "    4:Independent Component Analysis (ICA)\n",
    "    5:Autoencoders"
   ]
  },
  {
   "cell_type": "markdown",
   "id": "b38787c4",
   "metadata": {},
   "source": [
    "# Semi-Supervised Learning:\n",
    "    1:Self-training\n",
    "    2:Co-training\n",
    "    3:Multi-view learning approaches"
   ]
  },
  {
   "cell_type": "markdown",
   "id": "8713bc80",
   "metadata": {},
   "source": [
    "# Reinforcement Learning:\n",
    "    1:Q-Learning\n",
    "    2:Deep Q Network (DQN)\n",
    "    3:Policy Gradient Methods\n",
    "    4:Actor-Critic models"
   ]
  }
 ],
 "metadata": {
  "kernelspec": {
   "display_name": "Python 3 (ipykernel)",
   "language": "python",
   "name": "python3"
  },
  "language_info": {
   "codemirror_mode": {
    "name": "ipython",
    "version": 3
   },
   "file_extension": ".py",
   "mimetype": "text/x-python",
   "name": "python",
   "nbconvert_exporter": "python",
   "pygments_lexer": "ipython3",
   "version": "3.11.5"
  }
 },
 "nbformat": 4,
 "nbformat_minor": 5
}
