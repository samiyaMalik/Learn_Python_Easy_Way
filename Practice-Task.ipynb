{
 "cells": [
  {
   "cell_type": "markdown",
   "id": "dd0c68e1",
   "metadata": {},
   "source": [
    "# Task 1: Find the mean, mode, and median of the entire DataFrame"
   ]
  },
  {
   "cell_type": "code",
   "execution_count": null,
   "id": "330a71ac",
   "metadata": {},
   "outputs": [],
   "source": [
    "import pandas as pd\n",
    "\n",
    "\n",
    "data = {\n",
    "    'Physics': [32, 17, 50, 25, 17, 35],\n",
    "    'Chemistry': [24, 24, 25, 34, 31, 24],\n",
    "    'Biology': [30, 21, 28, 21, 18, 19],\n",
    "    'Maths': [40, 28, 32, 48, 28, 42]\n",
    "}"
   ]
  },
  {
   "cell_type": "code",
   "execution_count": 8,
   "id": "f0d1d152",
   "metadata": {},
   "outputs": [
    {
     "data": {
      "text/html": [
       "<div>\n",
       "<style scoped>\n",
       "    .dataframe tbody tr th:only-of-type {\n",
       "        vertical-align: middle;\n",
       "    }\n",
       "\n",
       "    .dataframe tbody tr th {\n",
       "        vertical-align: top;\n",
       "    }\n",
       "\n",
       "    .dataframe thead th {\n",
       "        text-align: right;\n",
       "    }\n",
       "</style>\n",
       "<table border=\"1\" class=\"dataframe\">\n",
       "  <thead>\n",
       "    <tr style=\"text-align: right;\">\n",
       "      <th></th>\n",
       "      <th>Physics</th>\n",
       "      <th>Chemistry</th>\n",
       "      <th>Biology</th>\n",
       "      <th>Maths</th>\n",
       "    </tr>\n",
       "  </thead>\n",
       "  <tbody>\n",
       "    <tr>\n",
       "      <th>Student-1</th>\n",
       "      <td>32</td>\n",
       "      <td>24</td>\n",
       "      <td>30</td>\n",
       "      <td>40</td>\n",
       "    </tr>\n",
       "    <tr>\n",
       "      <th>Student-2</th>\n",
       "      <td>17</td>\n",
       "      <td>24</td>\n",
       "      <td>21</td>\n",
       "      <td>28</td>\n",
       "    </tr>\n",
       "    <tr>\n",
       "      <th>Student-3</th>\n",
       "      <td>50</td>\n",
       "      <td>25</td>\n",
       "      <td>28</td>\n",
       "      <td>32</td>\n",
       "    </tr>\n",
       "    <tr>\n",
       "      <th>Student-4</th>\n",
       "      <td>25</td>\n",
       "      <td>34</td>\n",
       "      <td>21</td>\n",
       "      <td>48</td>\n",
       "    </tr>\n",
       "    <tr>\n",
       "      <th>Student-5</th>\n",
       "      <td>17</td>\n",
       "      <td>31</td>\n",
       "      <td>18</td>\n",
       "      <td>28</td>\n",
       "    </tr>\n",
       "    <tr>\n",
       "      <th>Student-6</th>\n",
       "      <td>35</td>\n",
       "      <td>24</td>\n",
       "      <td>19</td>\n",
       "      <td>42</td>\n",
       "    </tr>\n",
       "  </tbody>\n",
       "</table>\n",
       "</div>"
      ],
      "text/plain": [
       "           Physics  Chemistry  Biology  Maths\n",
       "Student-1       32         24       30     40\n",
       "Student-2       17         24       21     28\n",
       "Student-3       50         25       28     32\n",
       "Student-4       25         34       21     48\n",
       "Student-5       17         31       18     28\n",
       "Student-6       35         24       19     42"
      ]
     },
     "execution_count": 8,
     "metadata": {},
     "output_type": "execute_result"
    }
   ],
   "source": [
    "index = ['Student-1', 'Student-2', 'Student-3', 'Student-4', 'Student-5', 'Student-6']\n",
    "df = pd.DataFrame(data, index=index)\n",
    "df"
   ]
  },
  {
   "cell_type": "code",
   "execution_count": 24,
   "id": "e9f14d1b",
   "metadata": {},
   "outputs": [],
   "source": [
    "mean_df = df.mean()\n",
    "mode_df = df.mode().iloc[0]  \n",
    "median_df = df.median()"
   ]
  },
  {
   "cell_type": "code",
   "execution_count": 25,
   "id": "bb04bcdf",
   "metadata": {},
   "outputs": [
    {
     "name": "stdout",
     "output_type": "stream",
     "text": [
      "Mean of DataFrame:\n",
      "Physics      29.333333\n",
      "Chemistry    27.000000\n",
      "Biology      22.833333\n",
      "Maths        36.333333\n",
      "dtype: float64\n",
      "\n",
      "Mode of DataFrame:\n",
      "Physics      17\n",
      "Chemistry    24\n",
      "Biology      21\n",
      "Maths        28\n",
      "Name: 0, dtype: int64\n",
      "\n",
      "Median of DataFrame:\n",
      "Physics      28.5\n",
      "Chemistry    24.5\n",
      "Biology      21.0\n",
      "Maths        36.0\n",
      "dtype: float64\n"
     ]
    }
   ],
   "source": [
    "print(\"Mean of DataFrame:\")\n",
    "print(mean_df)\n",
    "print(\"\\nMode of DataFrame:\")\n",
    "print(mode_df)\n",
    "print(\"\\nMedian of DataFrame:\")\n",
    "print(median_df)"
   ]
  },
  {
   "cell_type": "markdown",
   "id": "a80d9f59",
   "metadata": {},
   "source": [
    "# Task 2: Find the mean and median of any single column"
   ]
  },
  {
   "cell_type": "code",
   "execution_count": 20,
   "id": "e4d48de5",
   "metadata": {},
   "outputs": [
    {
     "name": "stdout",
     "output_type": "stream",
     "text": [
      "Mean of column 'Physics': 29.333333333333332\n",
      "Median of column 'Physics': 28.5\n"
     ]
    }
   ],
   "source": [
    "col = 'Physics'  \n",
    "mean_column = df[col].mean()\n",
    "median_column = df[col].median()\n",
    "\n",
    "print(f\"Mean of column '{col}': {mean_column}\")\n",
    "print(f\"Median of column '{col}': {median_column}\")"
   ]
  },
  {
   "cell_type": "markdown",
   "id": "f038c9a4",
   "metadata": {},
   "source": [
    "# Task 3: Find the mean and median of any single row"
   ]
  },
  {
   "cell_type": "code",
   "execution_count": 26,
   "id": "3436f123",
   "metadata": {},
   "outputs": [
    {
     "name": "stdout",
     "output_type": "stream",
     "text": [
      "Mean of row Student-1: 31.5\n",
      "Median of row Student-1: 31.0\n"
     ]
    }
   ],
   "source": [
    "row = 0 \n",
    "mean_row = df.iloc[row].mean()\n",
    "median_row = df.iloc[row].median()\n",
    "\n",
    "\n",
    "print(f\"Mean of row {df.index[row]}: {mean_row}\")\n",
    "print(f\"Median of row {df.index[row]}: {median_row}\")"
   ]
  },
  {
   "cell_type": "markdown",
   "id": "d8701271",
   "metadata": {},
   "source": [
    "# Task4"
   ]
  },
  {
   "cell_type": "code",
   "execution_count": 27,
   "id": "7dcfea19",
   "metadata": {},
   "outputs": [
    {
     "name": "stdout",
     "output_type": "stream",
     "text": [
      "Mean temperature of Los Angeles: 33.79333333333333\n",
      "Mean temperature of Washington D.C.: 33.973333333333336\n",
      "Standard deviation of Los Angeles temperatures: 2.494652057680367\n",
      "Standard deviation of Washington D.C. temperatures: 4.723341566683015\n"
     ]
    }
   ],
   "source": [
    "import numpy as np\n",
    "import matplotlib.pyplot as plt\n",
    "\n",
    "LA_temperatures = np.array([36.0, 37.1, 36.2, 34.3, 39.4, 33.5, 30.6, 30.7, 32.8, 31.9, 31.0, 32.2, 32.3, 33.4, 35.5])\n",
    "WDC_temperatures = np.array([41.9, 35.8, 28.7, 29.6, 25.5, 36.4, 36.3, 32.2, 38.1, 40.0, 40.1, 34.1, 31.3, 28.7, 30.9])\n",
    "\n",
    "LA_mean = LA_temperatures.mean()\n",
    "WDC_mean = WDC_temperatures.mean()\n",
    "\n",
    "LA_std = LA_temperatures.std()\n",
    "WDC_std = WDC_temperatures.std()\n",
    "\n",
    "\n",
    "print(\"Mean temperature of Los Angeles:\", LA_mean)\n",
    "print(\"Mean temperature of Washington D.C.:\", WDC_mean)\n",
    "print(\"Standard deviation of Los Angeles temperatures:\", LA_std)\n",
    "print(\"Standard deviation of Washington D.C. temperatures:\", WDC_std)"
   ]
  },
  {
   "cell_type": "code",
   "execution_count": 28,
   "id": "65643012",
   "metadata": {},
   "outputs": [
    {
     "data": {
      "image/png": "[encoded data removed]",
      "text/plain": [
       "<Figure size 1000x600 with 1 Axes>"
      ]
     },
     "metadata": {},
     "output_type": "display_data"
    }
   ],
   "source": [
    "plt.figure(figsize=(10, 6))\n",
    "\n",
    "cities = ['Los Angeles', 'Washington D.C.']\n",
    "\n",
    "means = [LA_mean, WDC_mean]\n",
    "std_devs = [LA_std, WDC_std]\n",
    "\n",
    "plt.errorbar(cities, means, yerr=std_devs, fmt='o', capsize=5)\n",
    "\n",
    "\n",
    "plt.title('Temperature Variation Between Cities')\n",
    "plt.xlabel('City')\n",
    "plt.ylabel('Temperature (°C)')\n",
    "\n",
    "plt.grid(True)\n",
    "plt.show()"
   ]
  }
 ],
 "metadata": {
  "kernelspec": {
   "display_name": "Python 3 (ipykernel)",
   "language": "python",
   "name": "python3"
  },
  "language_info": {
   "codemirror_mode": {
    "name": "ipython",
    "version": 3
   },
   "file_extension": ".py",
   "mimetype": "text/x-python",
   "name": "python",
   "nbconvert_exporter": "python",
   "pygments_lexer": "ipython3",
   "version": "3.11.5"
  }
 },
 "nbformat": 4,
 "nbformat_minor": 5
}
