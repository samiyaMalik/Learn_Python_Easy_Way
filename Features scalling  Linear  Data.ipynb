{
 "cells": [
  {
   "cell_type": "code",
   "execution_count": 49,
   "id": "d84e7107",
   "metadata": {},
   "outputs": [],
   "source": [
    "import  pandas as pd \n",
    "from sklearn.preprocessing import StandardScaler,MinMaxScaler,MaxAbsScaler,RobustScaler"
   ]
  },
  {
   "cell_type": "code",
   "execution_count": 50,
   "id": "9d3f2f6f",
   "metadata": {},
   "outputs": [],
   "source": [
    "df = {\n",
    "    'age':[25,30,35,40,45],\n",
    "    'height':[165,170,175,180,185],\n",
    "    'weight':[55,60,65,70,75]\n",
    "}\n"
   ]
  },
  {
   "cell_type": "markdown",
   "id": "c9f2d430",
   "metadata": {},
   "source": [
    "### convert dataset into dataframe"
   ]
  },
  {
   "cell_type": "code",
   "execution_count": 51,
   "id": "26f9d817",
   "metadata": {},
   "outputs": [
    {
     "data": {
      "text/html": [
       "<div>\n",
       "<style scoped>\n",
       "    .dataframe tbody tr th:only-of-type {\n",
       "        vertical-align: middle;\n",
       "    }\n",
       "\n",
       "    .dataframe tbody tr th {\n",
       "        vertical-align: top;\n",
       "    }\n",
       "\n",
       "    .dataframe thead th {\n",
       "        text-align: right;\n",
       "    }\n",
       "</style>\n",
       "<table border=\"1\" class=\"dataframe\">\n",
       "  <thead>\n",
       "    <tr style=\"text-align: right;\">\n",
       "      <th></th>\n",
       "      <th>age</th>\n",
       "      <th>height</th>\n",
       "      <th>weight</th>\n",
       "    </tr>\n",
       "  </thead>\n",
       "  <tbody>\n",
       "    <tr>\n",
       "      <th>0</th>\n",
       "      <td>25</td>\n",
       "      <td>165</td>\n",
       "      <td>55</td>\n",
       "    </tr>\n",
       "    <tr>\n",
       "      <th>1</th>\n",
       "      <td>30</td>\n",
       "      <td>170</td>\n",
       "      <td>60</td>\n",
       "    </tr>\n",
       "    <tr>\n",
       "      <th>2</th>\n",
       "      <td>35</td>\n",
       "      <td>175</td>\n",
       "      <td>65</td>\n",
       "    </tr>\n",
       "    <tr>\n",
       "      <th>3</th>\n",
       "      <td>40</td>\n",
       "      <td>180</td>\n",
       "      <td>70</td>\n",
       "    </tr>\n",
       "    <tr>\n",
       "      <th>4</th>\n",
       "      <td>45</td>\n",
       "      <td>185</td>\n",
       "      <td>75</td>\n",
       "    </tr>\n",
       "  </tbody>\n",
       "</table>\n",
       "</div>"
      ],
      "text/plain": [
       "   age  height  weight\n",
       "0   25     165      55\n",
       "1   30     170      60\n",
       "2   35     175      65\n",
       "3   40     180      70\n",
       "4   45     185      75"
      ]
     },
     "execution_count": 51,
     "metadata": {},
     "output_type": "execute_result"
    }
   ],
   "source": [
    "df=pd.DataFrame(df)\n",
    "df"
   ]
  },
  {
   "cell_type": "markdown",
   "id": "ccb8c218",
   "metadata": {},
   "source": [
    "### Transfrmation using standardscaler"
   ]
  },
  {
   "cell_type": "code",
   "execution_count": 52,
   "id": "ae793952",
   "metadata": {},
   "outputs": [
    {
     "data": {
      "text/plain": [
       "array([[-1.41421356, -1.41421356, -1.41421356],\n",
       "       [-0.70710678, -0.70710678, -0.70710678],\n",
       "       [ 0.        ,  0.        ,  0.        ],\n",
       "       [ 0.70710678,  0.70710678,  0.70710678],\n",
       "       [ 1.41421356,  1.41421356,  1.41421356]])"
      ]
     },
     "execution_count": 52,
     "metadata": {},
     "output_type": "execute_result"
    }
   ],
   "source": [
    "#import scaler\n",
    "scaler = StandardScaler()\n",
    "#fit the scaler on data\n",
    "scaled_df=scaler.fit_transform(df)\n",
    "scaled_df"
   ]
  },
  {
   "cell_type": "markdown",
   "id": "49fe2d04",
   "metadata": {},
   "source": [
    "# MinMaxScaler"
   ]
  },
  {
   "cell_type": "code",
   "execution_count": 53,
   "id": "f94e9ed6",
   "metadata": {},
   "outputs": [
    {
     "data": {
      "text/plain": [
       "array([[0.  , 0.  , 0.  ],\n",
       "       [0.25, 0.25, 0.25],\n",
       "       [0.5 , 0.5 , 0.5 ],\n",
       "       [0.75, 0.75, 0.75],\n",
       "       [1.  , 1.  , 1.  ]])"
      ]
     },
     "execution_count": 53,
     "metadata": {},
     "output_type": "execute_result"
    }
   ],
   "source": [
    "#import scaler\n",
    "scaler = MinMaxScaler()\n",
    "#fit the scaler on data\n",
    "scaled_df=scaler.fit_transform(df)\n",
    "scaled_df"
   ]
  },
  {
   "cell_type": "markdown",
   "id": "1d028a56",
   "metadata": {},
   "source": [
    "# MaxAbsScaler"
   ]
  },
  {
   "cell_type": "code",
   "execution_count": 54,
   "id": "6df5bb61",
   "metadata": {},
   "outputs": [
    {
     "data": {
      "text/plain": [
       "array([[0.55555556, 0.89189189, 0.73333333],\n",
       "       [0.66666667, 0.91891892, 0.8       ],\n",
       "       [0.77777778, 0.94594595, 0.86666667],\n",
       "       [0.88888889, 0.97297297, 0.93333333],\n",
       "       [1.        , 1.        , 1.        ]])"
      ]
     },
     "execution_count": 54,
     "metadata": {},
     "output_type": "execute_result"
    }
   ],
   "source": [
    "#import scaler\n",
    "scaler = MaxAbsScaler()\n",
    "#fit the scaler on data\n",
    "scaled_df=scaler.fit_transform(df)\n",
    "scaled_df"
   ]
  },
  {
   "cell_type": "markdown",
   "id": "f7f62a33",
   "metadata": {},
   "source": [
    "# RobustScaler"
   ]
  },
  {
   "cell_type": "code",
   "execution_count": 55,
   "id": "b4f93b7e",
   "metadata": {},
   "outputs": [
    {
     "data": {
      "text/plain": [
       "array([[-1. , -1. , -1. ],\n",
       "       [-0.5, -0.5, -0.5],\n",
       "       [ 0. ,  0. ,  0. ],\n",
       "       [ 0.5,  0.5,  0.5],\n",
       "       [ 1. ,  1. ,  1. ]])"
      ]
     },
     "execution_count": 55,
     "metadata": {},
     "output_type": "execute_result"
    }
   ],
   "source": [
    "#import scaler\n",
    "scaler = RobustScaler()\n",
    "#fit the scaler on data\n",
    "scaled_df=scaler.fit_transform(df)\n",
    "scaled_df"
   ]
  },
  {
   "cell_type": "code",
   "execution_count": 48,
   "id": "950c1312",
   "metadata": {},
   "outputs": [
    {
     "data": {
      "text/plain": [
       "array([[0.55555556, 0.89189189, 0.73333333],\n",
       "       [0.66666667, 0.91891892, 0.8       ],\n",
       "       [0.77777778, 0.94594595, 0.86666667],\n",
       "       [0.88888889, 0.97297297, 0.93333333],\n",
       "       [1.        , 1.        , 1.        ]])"
      ]
     },
     "execution_count": 48,
     "metadata": {},
     "output_type": "execute_result"
    }
   ],
   "source": [
    "scaled_df"
   ]
  },
  {
   "cell_type": "markdown",
   "id": "07cc13b3",
   "metadata": {},
   "source": [
    "### convert data into pandas dataframe  rows and columns"
   ]
  },
  {
   "cell_type": "code",
   "execution_count": 57,
   "id": "b2ea5908",
   "metadata": {},
   "outputs": [
    {
     "data": {
      "text/html": [
       "<div>\n",
       "<style scoped>\n",
       "    .dataframe tbody tr th:only-of-type {\n",
       "        vertical-align: middle;\n",
       "    }\n",
       "\n",
       "    .dataframe tbody tr th {\n",
       "        vertical-align: top;\n",
       "    }\n",
       "\n",
       "    .dataframe thead th {\n",
       "        text-align: right;\n",
       "    }\n",
       "</style>\n",
       "<table border=\"1\" class=\"dataframe\">\n",
       "  <thead>\n",
       "    <tr style=\"text-align: right;\">\n",
       "      <th></th>\n",
       "      <th>age</th>\n",
       "      <th>height</th>\n",
       "      <th>weight</th>\n",
       "    </tr>\n",
       "  </thead>\n",
       "  <tbody>\n",
       "    <tr>\n",
       "      <th>0</th>\n",
       "      <td>-1.0</td>\n",
       "      <td>-1.0</td>\n",
       "      <td>-1.0</td>\n",
       "    </tr>\n",
       "    <tr>\n",
       "      <th>1</th>\n",
       "      <td>-0.5</td>\n",
       "      <td>-0.5</td>\n",
       "      <td>-0.5</td>\n",
       "    </tr>\n",
       "    <tr>\n",
       "      <th>2</th>\n",
       "      <td>0.0</td>\n",
       "      <td>0.0</td>\n",
       "      <td>0.0</td>\n",
       "    </tr>\n",
       "    <tr>\n",
       "      <th>3</th>\n",
       "      <td>0.5</td>\n",
       "      <td>0.5</td>\n",
       "      <td>0.5</td>\n",
       "    </tr>\n",
       "    <tr>\n",
       "      <th>4</th>\n",
       "      <td>1.0</td>\n",
       "      <td>1.0</td>\n",
       "      <td>1.0</td>\n",
       "    </tr>\n",
       "  </tbody>\n",
       "</table>\n",
       "</div>"
      ],
      "text/plain": [
       "   age  height  weight\n",
       "0 -1.0    -1.0    -1.0\n",
       "1 -0.5    -0.5    -0.5\n",
       "2  0.0     0.0     0.0\n",
       "3  0.5     0.5     0.5\n",
       "4  1.0     1.0     1.0"
      ]
     },
     "execution_count": 57,
     "metadata": {},
     "output_type": "execute_result"
    }
   ],
   "source": [
    "scaled_df = pd.DataFrame(scaled_df,columns=df.columns,)\n",
    "scaled_df "
   ]
  }
 ],
 "metadata": {
  "kernelspec": {
   "display_name": "Python 3 (ipykernel)",
   "language": "python",
   "name": "python3"
  },
  "language_info": {
   "codemirror_mode": {
    "name": "ipython",
    "version": 3
   },
   "file_extension": ".py",
   "mimetype": "text/x-python",
   "name": "python",
   "nbconvert_exporter": "python",
   "pygments_lexer": "ipython3",
   "version": "3.11.5"
  }
 },
 "nbformat": 4,
 "nbformat_minor": 5
}
