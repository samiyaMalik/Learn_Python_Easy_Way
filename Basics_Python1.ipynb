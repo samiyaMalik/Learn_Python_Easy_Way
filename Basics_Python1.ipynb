{
 "cells": [
  {
   "cell_type": "code",
   "execution_count": 11,
   "id": "df0d5044",
   "metadata": {},
   "outputs": [
    {
     "name": "stdout",
     "output_type": "stream",
     "text": [
      "[1 2 3 4]\n"
     ]
    }
   ],
   "source": [
    "import numpy as np\n",
    "arr = np.array([1,2,3,4])\n",
    "print(arr)"
   ]
  },
  {
   "cell_type": "code",
   "execution_count": 12,
   "id": "41f2c056",
   "metadata": {},
   "outputs": [
    {
     "data": {
      "text/plain": [
       "array([1, 2, 3, 4])"
      ]
     },
     "execution_count": 12,
     "metadata": {},
     "output_type": "execute_result"
    }
   ],
   "source": [
    "list=[1,2,3,4]\n",
    "np_arr=np.array(list)\n",
    "np_arr"
   ]
  },
  {
   "cell_type": "code",
   "execution_count": 24,
   "id": "700ec9a8",
   "metadata": {},
   "outputs": [],
   "source": [
    "lista = [1, 2, 3]\n",
    "lista2 = [3, 2, 1]"
   ]
  },
  {
   "cell_type": "code",
   "execution_count": 25,
   "id": "13fdea0a",
   "metadata": {},
   "outputs": [
    {
     "name": "stdout",
     "output_type": "stream",
     "text": [
      "[[1 2 3]\n",
      " [3 2 1]]\n"
     ]
    }
   ],
   "source": [
    "n = np.array([lista, lista2])\n",
    "print(n)\n"
   ]
  },
  {
   "cell_type": "code",
   "execution_count": 27,
   "id": "033ad348",
   "metadata": {},
   "outputs": [
    {
     "data": {
      "text/plain": [
       "(2, 3)"
      ]
     },
     "execution_count": 27,
     "metadata": {},
     "output_type": "execute_result"
    }
   ],
   "source": [
    "n.shape"
   ]
  },
  {
   "cell_type": "code",
   "execution_count": 28,
   "id": "caf1b724",
   "metadata": {},
   "outputs": [
    {
     "data": {
      "text/plain": [
       "array([0., 0., 0., 0.])"
      ]
     },
     "execution_count": 28,
     "metadata": {},
     "output_type": "execute_result"
    }
   ],
   "source": [
    "np.zeros(4)"
   ]
  },
  {
   "cell_type": "code",
   "execution_count": 31,
   "id": "76770d97",
   "metadata": {},
   "outputs": [
    {
     "data": {
      "text/plain": [
       "array([[1., 1., 1., 1., 1.],\n",
       "       [1., 1., 1., 1., 1.],\n",
       "       [1., 1., 1., 1., 1.],\n",
       "       [1., 1., 1., 1., 1.],\n",
       "       [1., 1., 1., 1., 1.]])"
      ]
     },
     "execution_count": 31,
     "metadata": {},
     "output_type": "execute_result"
    }
   ],
   "source": [
    "np.ones([5,5])"
   ]
  },
  {
   "cell_type": "code",
   "execution_count": 32,
   "id": "670da1f6",
   "metadata": {},
   "outputs": [
    {
     "data": {
      "text/plain": [
       "array([2.12199579e-314, 7.63918485e-312, 5.79044937e-321, 7.63918485e-312,\n",
       "       0.00000000e+000])"
      ]
     },
     "execution_count": 32,
     "metadata": {},
     "output_type": "execute_result"
    }
   ],
   "source": [
    "np.empty(5)"
   ]
  },
  {
   "cell_type": "code",
   "execution_count": 33,
   "id": "8c17a272",
   "metadata": {},
   "outputs": [
    {
     "data": {
      "text/plain": [
       "array([[ 1,  2,  3,  4],\n",
       "       [ 8,  9, 10, 11]])"
      ]
     },
     "execution_count": 33,
     "metadata": {},
     "output_type": "execute_result"
    }
   ],
   "source": [
    "np.arange(5,23)\n",
    "arr1=np.array([[1,2,3,4],[8,9,10,11]])\n",
    "arr1"
   ]
  },
  {
   "cell_type": "code",
   "execution_count": 57,
   "id": "b8f5a32f",
   "metadata": {},
   "outputs": [
    {
     "name": "stdout",
     "output_type": "stream",
     "text": [
      "[10 10 10]\n"
     ]
    }
   ],
   "source": [
    "# Slice elements from index 1 to index 4 (exclusive)\n",
    "print(arr[1:5])\n"
   ]
  },
  {
   "cell_type": "code",
   "execution_count": 42,
   "id": "f9ea20d1",
   "metadata": {},
   "outputs": [
    {
     "data": {
      "text/plain": [
       "array([10, 10, 10, 10])"
      ]
     },
     "execution_count": 42,
     "metadata": {},
     "output_type": "execute_result"
    }
   ],
   "source": [
    "arr[0:5] = 10\n",
    "arr"
   ]
  },
  {
   "cell_type": "code",
   "execution_count": 54,
   "id": "7d695dbf",
   "metadata": {},
   "outputs": [
    {
     "data": {
      "text/plain": [
       "array([10, 10, 10, 10])"
      ]
     },
     "execution_count": 54,
     "metadata": {},
     "output_type": "execute_result"
    }
   ],
   "source": [
    "slice_of_arr = arr[0:6]\n",
    "slice_of_arr "
   ]
  },
  {
   "cell_type": "code",
   "execution_count": 44,
   "id": "85c43cfa",
   "metadata": {},
   "outputs": [
    {
     "data": {
      "text/plain": [
       "array([10, 10, 10, 10])"
      ]
     },
     "execution_count": 44,
     "metadata": {},
     "output_type": "execute_result"
    }
   ],
   "source": [
    "arr_copy = arr.copy()\n",
    "arr_copy"
   ]
  },
  {
   "cell_type": "code",
   "execution_count": 52,
   "id": "574869c8",
   "metadata": {},
   "outputs": [
    {
     "data": {
      "text/plain": [
       "array([[1, 3, 5],\n",
       "       [3, 5, 1],\n",
       "       [3, 2, 1]])"
      ]
     },
     "execution_count": 52,
     "metadata": {},
     "output_type": "execute_result"
    }
   ],
   "source": [
    "arr_2d = np.array([[1,3,5],[3,5,1],[3,2,1]])\n",
    "arr_2d "
   ]
  },
  {
   "cell_type": "code",
   "execution_count": 58,
   "id": "7260009c",
   "metadata": {},
   "outputs": [
    {
     "data": {
      "text/plain": [
       "array([3, 5, 1])"
      ]
     },
     "execution_count": 58,
     "metadata": {},
     "output_type": "execute_result"
    }
   ],
   "source": [
    "arr_2d[1]\n"
   ]
  },
  {
   "cell_type": "code",
   "execution_count": 59,
   "id": "9314fb4e",
   "metadata": {},
   "outputs": [
    {
     "data": {
      "text/plain": [
       "array([[3, 5],\n",
       "       [5, 1]])"
      ]
     },
     "execution_count": 59,
     "metadata": {},
     "output_type": "execute_result"
    }
   ],
   "source": [
    "arr_2d[:2,1:]"
   ]
  },
  {
   "cell_type": "code",
   "execution_count": 60,
   "id": "a3a27716",
   "metadata": {},
   "outputs": [
    {
     "data": {
      "text/plain": [
       "array([3, 5, 2])"
      ]
     },
     "execution_count": 60,
     "metadata": {},
     "output_type": "execute_result"
    }
   ],
   "source": [
    "arr_2d[:,1]"
   ]
  },
  {
   "cell_type": "code",
   "execution_count": 62,
   "id": "18cb4d4d",
   "metadata": {
    "scrolled": true
   },
   "outputs": [
    {
     "data": {
      "text/plain": [
       "array([[0., 0., 0., 0., 0., 0., 0., 0., 0., 0.],\n",
       "       [0., 0., 0., 0., 0., 0., 0., 0., 0., 0.],\n",
       "       [0., 0., 0., 0., 0., 0., 0., 0., 0., 0.],\n",
       "       [0., 0., 0., 0., 0., 0., 0., 0., 0., 0.],\n",
       "       [0., 0., 0., 0., 0., 0., 0., 0., 0., 0.],\n",
       "       [0., 0., 0., 0., 0., 0., 0., 0., 0., 0.],\n",
       "       [0., 0., 0., 0., 0., 0., 0., 0., 0., 0.],\n",
       "       [0., 0., 0., 0., 0., 0., 0., 0., 0., 0.],\n",
       "       [0., 0., 0., 0., 0., 0., 0., 0., 0., 0.],\n",
       "       [0., 0., 0., 0., 0., 0., 0., 0., 0., 0.]])"
      ]
     },
     "execution_count": 62,
     "metadata": {},
     "output_type": "execute_result"
    }
   ],
   "source": [
    "arr2d = np.zeros((10,10))\n",
    "arr2d"
   ]
  },
  {
   "cell_type": "code",
   "execution_count": 64,
   "id": "098ca5b6",
   "metadata": {},
   "outputs": [
    {
     "data": {
      "text/plain": [
       "array([[ 0,  1,  2,  3,  4],\n",
       "       [ 5,  6,  7,  8,  9],\n",
       "       [10, 11, 12, 13, 14],\n",
       "       [15, 16, 17, 18, 19],\n",
       "       [20, 21, 22, 23, 24],\n",
       "       [25, 26, 27, 28, 29],\n",
       "       [30, 31, 32, 33, 34],\n",
       "       [35, 36, 37, 38, 39],\n",
       "       [40, 41, 42, 43, 44],\n",
       "       [45, 46, 47, 48, 49]])"
      ]
     },
     "execution_count": 64,
     "metadata": {},
     "output_type": "execute_result"
    }
   ],
   "source": [
    "arr = np.arange(50).reshape((10,5))\n",
    "arr"
   ]
  },
  {
   "cell_type": "code",
   "execution_count": 65,
   "id": "c245d3ab",
   "metadata": {},
   "outputs": [
    {
     "data": {
      "text/plain": [
       "array([[ 0,  5, 10, 15, 20, 25, 30, 35, 40, 45],\n",
       "       [ 1,  6, 11, 16, 21, 26, 31, 36, 41, 46],\n",
       "       [ 2,  7, 12, 17, 22, 27, 32, 37, 42, 47],\n",
       "       [ 3,  8, 13, 18, 23, 28, 33, 38, 43, 48],\n",
       "       [ 4,  9, 14, 19, 24, 29, 34, 39, 44, 49]])"
      ]
     },
     "execution_count": 65,
     "metadata": {},
     "output_type": "execute_result"
    }
   ],
   "source": [
    "arr.T"
   ]
  },
  {
   "cell_type": "code",
   "execution_count": 66,
   "id": "76e9d50f",
   "metadata": {},
   "outputs": [
    {
     "data": {
      "text/plain": [
       "array([[7125, 7350, 7575, 7800, 8025],\n",
       "       [7350, 7585, 7820, 8055, 8290],\n",
       "       [7575, 7820, 8065, 8310, 8555],\n",
       "       [7800, 8055, 8310, 8565, 8820],\n",
       "       [8025, 8290, 8555, 8820, 9085]])"
      ]
     },
     "execution_count": 66,
     "metadata": {},
     "output_type": "execute_result"
    }
   ],
   "source": [
    "np.dot(arr.T,arr)"
   ]
  },
  {
   "cell_type": "code",
   "execution_count": 68,
   "id": "549bf98b",
   "metadata": {},
   "outputs": [],
   "source": [
    "import pandas as pd\n",
    "import numpy as np\n",
    "from pandas import Series,DataFrame"
   ]
  },
  {
   "cell_type": "code",
   "execution_count": 69,
   "id": "8928e07e",
   "metadata": {},
   "outputs": [
    {
     "data": {
      "text/plain": [
       "0     3\n",
       "1     6\n",
       "2     9\n",
       "3    12\n",
       "dtype: int64"
      ]
     },
     "execution_count": 69,
     "metadata": {},
     "output_type": "execute_result"
    }
   ],
   "source": [
    "obj = Series ([3,6,9,12])\n",
    "obj"
   ]
  },
  {
   "cell_type": "code",
   "execution_count": 70,
   "id": "0f0f2c40",
   "metadata": {},
   "outputs": [
    {
     "data": {
      "text/plain": [
       "array([ 3,  6,  9, 12], dtype=int64)"
      ]
     },
     "execution_count": 70,
     "metadata": {},
     "output_type": "execute_result"
    }
   ],
   "source": [
    "obj.values"
   ]
  },
  {
   "cell_type": "code",
   "execution_count": 71,
   "id": "b8bdd117",
   "metadata": {},
   "outputs": [
    {
     "data": {
      "text/plain": [
       "RangeIndex(start=0, stop=4, step=1)"
      ]
     },
     "execution_count": 71,
     "metadata": {},
     "output_type": "execute_result"
    }
   ],
   "source": [
    "obj.index"
   ]
  },
  {
   "cell_type": "code",
   "execution_count": 77,
   "id": "7bbb3e6b",
   "metadata": {},
   "outputs": [
    {
     "data": {
      "text/plain": [
       "['China', 'Germain', 'Japan', 'USA', 'USSR', 'Argentina']"
      ]
     },
     "execution_count": 77,
     "metadata": {},
     "output_type": "execute_result"
    }
   ],
   "source": [
    "countries = ['China','Germain','Japan','USA','USSR','Argentina']\n",
    "countries"
   ]
  },
  {
   "cell_type": "code",
   "execution_count": 86,
   "id": "56e9f2b9",
   "metadata": {},
   "outputs": [
    {
     "name": "stdout",
     "output_type": "stream",
     "text": [
      "China        Allies\n",
      "Germain        Axis\n",
      "Japan          Axis\n",
      "USA          Allies\n",
      "USSR         Allies\n",
      "Argentina    Allies\n",
      "dtype: object\n"
     ]
    }
   ],
   "source": [
    "\n",
    "# Create a dictionary containing the data\n",
    "ww2_dict = {'China': 'Allies', 'Germain': 'Axis', 'Japan': 'Axis', 'USA': 'Allies', 'USSR': 'Allies', 'Argentina': 'Allies'}\n",
    "\n",
    "# Define the countries list\n",
    "countries = ['China', 'Germain', 'Japan', 'USA', 'USSR', 'Argentina']\n",
    "\n",
    "# Create a Series object using the data from ww2_dict and specifying the index as countries\n",
    "obj2 = pd.Series(ww2_dict, index=countries)\n",
    "\n",
    "print(obj2)\n"
   ]
  },
  {
   "cell_type": "code",
   "execution_count": 87,
   "id": "feb59f22",
   "metadata": {},
   "outputs": [
    {
     "data": {
      "text/plain": [
       "China        False\n",
       "Germain      False\n",
       "Japan        False\n",
       "USA          False\n",
       "USSR         False\n",
       "Argentina    False\n",
       "dtype: bool"
      ]
     },
     "execution_count": 87,
     "metadata": {},
     "output_type": "execute_result"
    }
   ],
   "source": [
    "pd.isnull(obj2)"
   ]
  },
  {
   "cell_type": "code",
   "execution_count": 93,
   "id": "d86c53f4",
   "metadata": {},
   "outputs": [
    {
     "data": {
      "text/plain": [
       "China        Allies\n",
       "Germain        Axis\n",
       "Japan          Axis\n",
       "USA          Allies\n",
       "USSR         Allies\n",
       "Argentina    Allies\n",
       "Name: WW 2 casualties, dtype: object"
      ]
     },
     "execution_count": 93,
     "metadata": {},
     "output_type": "execute_result"
    }
   ],
   "source": [
    "obj2.name = \"WW 2 casualties\"\n",
    "obj2"
   ]
  },
  {
   "cell_type": "code",
   "execution_count": 95,
   "id": "d5dd4beb",
   "metadata": {},
   "outputs": [
    {
     "data": {
      "text/plain": [
       "countries\n",
       "China        Allies\n",
       "Germain        Axis\n",
       "Japan          Axis\n",
       "USA          Allies\n",
       "USSR         Allies\n",
       "Argentina    Allies\n",
       "Name: WW 2 casualties, dtype: object"
      ]
     },
     "execution_count": 95,
     "metadata": {},
     "output_type": "execute_result"
    }
   ],
   "source": [
    "obj2.index.name=\"countries\"\n",
    "obj2"
   ]
  },
  {
   "cell_type": "code",
   "execution_count": 97,
   "id": "0ee6aabb",
   "metadata": {},
   "outputs": [
    {
     "data": {
      "text/plain": [
       "A    1\n",
       "B    2\n",
       "C    3\n",
       "D    4\n",
       "dtype: int64"
      ]
     },
     "execution_count": 97,
     "metadata": {},
     "output_type": "execute_result"
    }
   ],
   "source": [
    "my_ser = Series([1,2,3,4], index=['A','B','C','D'])\n",
    "my_ser"
   ]
  },
  {
   "cell_type": "code",
   "execution_count": 98,
   "id": "589a3bf7",
   "metadata": {},
   "outputs": [
    {
     "data": {
      "text/plain": [
       "Index(['A', 'B', 'C', 'D'], dtype='object')"
      ]
     },
     "execution_count": 98,
     "metadata": {},
     "output_type": "execute_result"
    }
   ],
   "source": [
    "my_index = my_ser.index\n",
    "my_index"
   ]
  },
  {
   "cell_type": "code",
   "execution_count": 99,
   "id": "ea4c32c2",
   "metadata": {},
   "outputs": [
    {
     "data": {
      "text/plain": [
       "Index(['C', 'D'], dtype='object')"
      ]
     },
     "execution_count": 99,
     "metadata": {},
     "output_type": "execute_result"
    }
   ],
   "source": [
    "my_index[2:]"
   ]
  },
  {
   "cell_type": "code",
   "execution_count": 102,
   "id": "bfba4f13",
   "metadata": {},
   "outputs": [
    {
     "data": {
      "text/plain": [
       "A    1.0\n",
       "B    2.0\n",
       "C    3.0\n",
       "D    4.0\n",
       "E    NaN\n",
       "F    NaN\n",
       "dtype: float64"
      ]
     },
     "execution_count": 102,
     "metadata": {},
     "output_type": "execute_result"
    }
   ],
   "source": [
    "ser_2 = my_ser.reindex(['A','B','C','D','E','F'])\n",
    "ser_2"
   ]
  },
  {
   "cell_type": "code",
   "execution_count": 141,
   "id": "efa331c9",
   "metadata": {},
   "outputs": [
    {
     "data": {
      "text/plain": [
       "0        USA\n",
       "3     Mexico\n",
       "10    Canada\n",
       "dtype: object"
      ]
     },
     "execution_count": 141,
     "metadata": {},
     "output_type": "execute_result"
    }
   ],
   "source": [
    "ser_2.reindex(['A','B','C','D','E','F','G'],fill_value=0)\n",
    "ser_3 = Series(['USA','Mexico','Canada'],index=[0,3,10])\n",
    "ser_3"
   ]
  },
  {
   "cell_type": "code",
   "execution_count": 142,
   "id": "ea50c6f3",
   "metadata": {},
   "outputs": [
    {
     "data": {
      "text/plain": [
       "0        USA\n",
       "1        USA\n",
       "2        USA\n",
       "3     Mexico\n",
       "4     Mexico\n",
       "5     Mexico\n",
       "6     Mexico\n",
       "7     Mexico\n",
       "8     Mexico\n",
       "9     Mexico\n",
       "10    Canada\n",
       "11    Canada\n",
       "12    Canada\n",
       "13    Canada\n",
       "14    Canada\n",
       "dtype: object"
      ]
     },
     "execution_count": 142,
     "metadata": {},
     "output_type": "execute_result"
    }
   ],
   "source": [
    "ser_3.reindex(range(15),method='ffill')"
   ]
  },
  {
   "cell_type": "code",
   "execution_count": 112,
   "id": "0a2135d5",
   "metadata": {},
   "outputs": [
    {
     "data": {
      "text/html": [
       "<div>\n",
       "<style scoped>\n",
       "    .dataframe tbody tr th:only-of-type {\n",
       "        vertical-align: middle;\n",
       "    }\n",
       "\n",
       "    .dataframe tbody tr th {\n",
       "        vertical-align: top;\n",
       "    }\n",
       "\n",
       "    .dataframe thead th {\n",
       "        text-align: right;\n",
       "    }\n",
       "</style>\n",
       "<table border=\"1\" class=\"dataframe\">\n",
       "  <thead>\n",
       "    <tr style=\"text-align: right;\">\n",
       "      <th></th>\n",
       "      <th>col1</th>\n",
       "      <th>col2</th>\n",
       "      <th>col3</th>\n",
       "      <th>col4</th>\n",
       "      <th>col5</th>\n",
       "    </tr>\n",
       "  </thead>\n",
       "  <tbody>\n",
       "    <tr>\n",
       "      <th>A</th>\n",
       "      <td>0.535714</td>\n",
       "      <td>-0.821811</td>\n",
       "      <td>-1.506706</td>\n",
       "      <td>1.769900</td>\n",
       "      <td>0.785806</td>\n",
       "    </tr>\n",
       "    <tr>\n",
       "      <th>B</th>\n",
       "      <td>0.551149</td>\n",
       "      <td>1.276370</td>\n",
       "      <td>-0.804065</td>\n",
       "      <td>1.028618</td>\n",
       "      <td>-0.757011</td>\n",
       "    </tr>\n",
       "    <tr>\n",
       "      <th>D</th>\n",
       "      <td>-0.603195</td>\n",
       "      <td>1.001072</td>\n",
       "      <td>0.843948</td>\n",
       "      <td>-0.266817</td>\n",
       "      <td>-0.711135</td>\n",
       "    </tr>\n",
       "    <tr>\n",
       "      <th>E</th>\n",
       "      <td>-0.881889</td>\n",
       "      <td>0.338534</td>\n",
       "      <td>0.874096</td>\n",
       "      <td>0.426938</td>\n",
       "      <td>1.455454</td>\n",
       "    </tr>\n",
       "    <tr>\n",
       "      <th>F</th>\n",
       "      <td>-0.904507</td>\n",
       "      <td>1.142065</td>\n",
       "      <td>-0.808603</td>\n",
       "      <td>0.146420</td>\n",
       "      <td>1.309232</td>\n",
       "    </tr>\n",
       "  </tbody>\n",
       "</table>\n",
       "</div>"
      ],
      "text/plain": [
       "       col1      col2      col3      col4      col5\n",
       "A  0.535714 -0.821811 -1.506706  1.769900  0.785806\n",
       "B  0.551149  1.276370 -0.804065  1.028618 -0.757011\n",
       "D -0.603195  1.001072  0.843948 -0.266817 -0.711135\n",
       "E -0.881889  0.338534  0.874096  0.426938  1.455454\n",
       "F -0.904507  1.142065 -0.808603  0.146420  1.309232"
      ]
     },
     "execution_count": 112,
     "metadata": {},
     "output_type": "execute_result"
    }
   ],
   "source": [
    "# Create a DataFrame with random numbers\n",
    "dframe = pd.DataFrame(np.random.randn(25).reshape((5,5)), index=['A','B','D','E','F'], columns=['col1','col2','col3','col4','col5'])\n",
    "\n",
    "# Print the DataFrame\n",
    "dframe\n"
   ]
  },
  {
   "cell_type": "code",
   "execution_count": 113,
   "id": "1219eb95",
   "metadata": {},
   "outputs": [
    {
     "data": {
      "text/html": [
       "<div>\n",
       "<style scoped>\n",
       "    .dataframe tbody tr th:only-of-type {\n",
       "        vertical-align: middle;\n",
       "    }\n",
       "\n",
       "    .dataframe tbody tr th {\n",
       "        vertical-align: top;\n",
       "    }\n",
       "\n",
       "    .dataframe thead th {\n",
       "        text-align: right;\n",
       "    }\n",
       "</style>\n",
       "<table border=\"1\" class=\"dataframe\">\n",
       "  <thead>\n",
       "    <tr style=\"text-align: right;\">\n",
       "      <th></th>\n",
       "      <th>col1</th>\n",
       "      <th>col2</th>\n",
       "      <th>col3</th>\n",
       "      <th>col4</th>\n",
       "      <th>col5</th>\n",
       "    </tr>\n",
       "  </thead>\n",
       "  <tbody>\n",
       "    <tr>\n",
       "      <th>A</th>\n",
       "      <td>0.535714</td>\n",
       "      <td>-0.821811</td>\n",
       "      <td>-1.506706</td>\n",
       "      <td>1.769900</td>\n",
       "      <td>0.785806</td>\n",
       "    </tr>\n",
       "    <tr>\n",
       "      <th>B</th>\n",
       "      <td>0.551149</td>\n",
       "      <td>1.276370</td>\n",
       "      <td>-0.804065</td>\n",
       "      <td>1.028618</td>\n",
       "      <td>-0.757011</td>\n",
       "    </tr>\n",
       "    <tr>\n",
       "      <th>C</th>\n",
       "      <td>NaN</td>\n",
       "      <td>NaN</td>\n",
       "      <td>NaN</td>\n",
       "      <td>NaN</td>\n",
       "      <td>NaN</td>\n",
       "    </tr>\n",
       "    <tr>\n",
       "      <th>D</th>\n",
       "      <td>-0.603195</td>\n",
       "      <td>1.001072</td>\n",
       "      <td>0.843948</td>\n",
       "      <td>-0.266817</td>\n",
       "      <td>-0.711135</td>\n",
       "    </tr>\n",
       "    <tr>\n",
       "      <th>E</th>\n",
       "      <td>-0.881889</td>\n",
       "      <td>0.338534</td>\n",
       "      <td>0.874096</td>\n",
       "      <td>0.426938</td>\n",
       "      <td>1.455454</td>\n",
       "    </tr>\n",
       "    <tr>\n",
       "      <th>F</th>\n",
       "      <td>-0.904507</td>\n",
       "      <td>1.142065</td>\n",
       "      <td>-0.808603</td>\n",
       "      <td>0.146420</td>\n",
       "      <td>1.309232</td>\n",
       "    </tr>\n",
       "  </tbody>\n",
       "</table>\n",
       "</div>"
      ],
      "text/plain": [
       "       col1      col2      col3      col4      col5\n",
       "A  0.535714 -0.821811 -1.506706  1.769900  0.785806\n",
       "B  0.551149  1.276370 -0.804065  1.028618 -0.757011\n",
       "C       NaN       NaN       NaN       NaN       NaN\n",
       "D -0.603195  1.001072  0.843948 -0.266817 -0.711135\n",
       "E -0.881889  0.338534  0.874096  0.426938  1.455454\n",
       "F -0.904507  1.142065 -0.808603  0.146420  1.309232"
      ]
     },
     "execution_count": 113,
     "metadata": {},
     "output_type": "execute_result"
    }
   ],
   "source": [
    "dframe2 = dframe.reindex(['A','B','C','D','E','F'])\n",
    "dframe2"
   ]
  },
  {
   "cell_type": "code",
   "execution_count": 120,
   "id": "dca87f51",
   "metadata": {},
   "outputs": [
    {
     "data": {
      "text/html": [
       "<div>\n",
       "<style scoped>\n",
       "    .dataframe tbody tr th:only-of-type {\n",
       "        vertical-align: middle;\n",
       "    }\n",
       "\n",
       "    .dataframe tbody tr th {\n",
       "        vertical-align: top;\n",
       "    }\n",
       "\n",
       "    .dataframe thead th {\n",
       "        text-align: right;\n",
       "    }\n",
       "</style>\n",
       "<table border=\"1\" class=\"dataframe\">\n",
       "  <thead>\n",
       "    <tr style=\"text-align: right;\">\n",
       "      <th></th>\n",
       "      <th>Name</th>\n",
       "      <th>Height</th>\n",
       "      <th>Qualification</th>\n",
       "    </tr>\n",
       "  </thead>\n",
       "  <tbody>\n",
       "    <tr>\n",
       "      <th>0</th>\n",
       "      <td>Jai</td>\n",
       "      <td>5.1</td>\n",
       "      <td>Msc</td>\n",
       "    </tr>\n",
       "    <tr>\n",
       "      <th>1</th>\n",
       "      <td>Princi</td>\n",
       "      <td>6.2</td>\n",
       "      <td>MA</td>\n",
       "    </tr>\n",
       "    <tr>\n",
       "      <th>2</th>\n",
       "      <td>Gaurav</td>\n",
       "      <td>5.1</td>\n",
       "      <td>Msc</td>\n",
       "    </tr>\n",
       "    <tr>\n",
       "      <th>3</th>\n",
       "      <td>Anuj</td>\n",
       "      <td>5.2</td>\n",
       "      <td>Msc</td>\n",
       "    </tr>\n",
       "  </tbody>\n",
       "</table>\n",
       "</div>"
      ],
      "text/plain": [
       "     Name  Height Qualification\n",
       "0     Jai     5.1           Msc\n",
       "1  Princi     6.2            MA\n",
       "2  Gaurav     5.1           Msc\n",
       "3    Anuj     5.2           Msc"
      ]
     },
     "execution_count": 120,
     "metadata": {},
     "output_type": "execute_result"
    }
   ],
   "source": [
    "data = {\n",
    "    'Name': ['Jai', 'Princi', 'Gaurav', 'Anuj'],\n",
    "    'Height': [5.1, 6.2, 5.1, 5.2],\n",
    "    'Qualification': ['Msc', 'MA', 'Msc', 'Msc']\n",
    "}\n",
    "df = pd.DataFrame(data)\n",
    "df"
   ]
  },
  {
   "cell_type": "code",
   "execution_count": 127,
   "id": "034ff30c",
   "metadata": {},
   "outputs": [
    {
     "data": {
      "text/html": [
       "<div>\n",
       "<style scoped>\n",
       "    .dataframe tbody tr th:only-of-type {\n",
       "        vertical-align: middle;\n",
       "    }\n",
       "\n",
       "    .dataframe tbody tr th {\n",
       "        vertical-align: top;\n",
       "    }\n",
       "\n",
       "    .dataframe thead th {\n",
       "        text-align: right;\n",
       "    }\n",
       "</style>\n",
       "<table border=\"1\" class=\"dataframe\">\n",
       "  <thead>\n",
       "    <tr style=\"text-align: right;\">\n",
       "      <th></th>\n",
       "      <th>Name</th>\n",
       "      <th>Height</th>\n",
       "      <th>Qualification</th>\n",
       "      <th>Address</th>\n",
       "    </tr>\n",
       "  </thead>\n",
       "  <tbody>\n",
       "    <tr>\n",
       "      <th>0</th>\n",
       "      <td>Jai</td>\n",
       "      <td>5.1</td>\n",
       "      <td>Msc</td>\n",
       "      <td>Delhi</td>\n",
       "    </tr>\n",
       "    <tr>\n",
       "      <th>1</th>\n",
       "      <td>Princi</td>\n",
       "      <td>6.2</td>\n",
       "      <td>MA</td>\n",
       "      <td>Bangalore</td>\n",
       "    </tr>\n",
       "    <tr>\n",
       "      <th>2</th>\n",
       "      <td>Gaurav</td>\n",
       "      <td>5.1</td>\n",
       "      <td>Msc</td>\n",
       "      <td>Chennai</td>\n",
       "    </tr>\n",
       "    <tr>\n",
       "      <th>3</th>\n",
       "      <td>Anuj</td>\n",
       "      <td>5.2</td>\n",
       "      <td>Msc</td>\n",
       "      <td>Patna</td>\n",
       "    </tr>\n",
       "  </tbody>\n",
       "</table>\n",
       "</div>"
      ],
      "text/plain": [
       "     Name  Height Qualification    Address\n",
       "0     Jai     5.1           Msc      Delhi\n",
       "1  Princi     6.2            MA  Bangalore\n",
       "2  Gaurav     5.1           Msc    Chennai\n",
       "3    Anuj     5.2           Msc      Patna"
      ]
     },
     "execution_count": 127,
     "metadata": {},
     "output_type": "execute_result"
    }
   ],
   "source": [
    "address = ['Delhi', 'Bangalore', 'Chennai', 'Patna']\n",
    "df['Address'] = address\n",
    "df"
   ]
  },
  {
   "cell_type": "code",
   "execution_count": 129,
   "id": "9186c3c3",
   "metadata": {},
   "outputs": [],
   "source": [
    "data = {\n",
    "    'Name': ['Jai', 'Princi', 'Gaurav', 'Anuj'],\n",
    "    'Height': [5.1, 6.2, 5.1, 5.2],\n",
    "    'Qualification': ['Msc', 'MA', 'Msc', 'Msc']\n",
    "}"
   ]
  },
  {
   "cell_type": "code",
   "execution_count": 132,
   "id": "54f2e5d3",
   "metadata": {},
   "outputs": [
    {
     "data": {
      "text/html": [
       "<div>\n",
       "<style scoped>\n",
       "    .dataframe tbody tr th:only-of-type {\n",
       "        vertical-align: middle;\n",
       "    }\n",
       "\n",
       "    .dataframe tbody tr th {\n",
       "        vertical-align: top;\n",
       "    }\n",
       "\n",
       "    .dataframe thead th {\n",
       "        text-align: right;\n",
       "    }\n",
       "</style>\n",
       "<table border=\"1\" class=\"dataframe\">\n",
       "  <thead>\n",
       "    <tr style=\"text-align: right;\">\n",
       "      <th></th>\n",
       "      <th>Name</th>\n",
       "      <th>Height</th>\n",
       "      <th>Qualification</th>\n",
       "    </tr>\n",
       "  </thead>\n",
       "  <tbody>\n",
       "    <tr>\n",
       "      <th>0</th>\n",
       "      <td>Jai</td>\n",
       "      <td>5.1</td>\n",
       "      <td>Msc</td>\n",
       "    </tr>\n",
       "    <tr>\n",
       "      <th>1</th>\n",
       "      <td>Princi</td>\n",
       "      <td>6.2</td>\n",
       "      <td>MA</td>\n",
       "    </tr>\n",
       "    <tr>\n",
       "      <th>2</th>\n",
       "      <td>Gaurav</td>\n",
       "      <td>5.1</td>\n",
       "      <td>Msc</td>\n",
       "    </tr>\n",
       "    <tr>\n",
       "      <th>3</th>\n",
       "      <td>Anuj</td>\n",
       "      <td>5.2</td>\n",
       "      <td>Msc</td>\n",
       "    </tr>\n",
       "  </tbody>\n",
       "</table>\n",
       "</div>"
      ],
      "text/plain": [
       "     Name  Height Qualification\n",
       "0     Jai     5.1           Msc\n",
       "1  Princi     6.2            MA\n",
       "2  Gaurav     5.1           Msc\n",
       "3    Anuj     5.2           Msc"
      ]
     },
     "execution_count": 132,
     "metadata": {},
     "output_type": "execute_result"
    }
   ],
   "source": [
    "df = pd.DataFrame(data)\n",
    "df"
   ]
  },
  {
   "cell_type": "code",
   "execution_count": 134,
   "id": "3d97018a",
   "metadata": {},
   "outputs": [
    {
     "data": {
      "text/html": [
       "<div>\n",
       "<style scoped>\n",
       "    .dataframe tbody tr th:only-of-type {\n",
       "        vertical-align: middle;\n",
       "    }\n",
       "\n",
       "    .dataframe tbody tr th {\n",
       "        vertical-align: top;\n",
       "    }\n",
       "\n",
       "    .dataframe thead th {\n",
       "        text-align: right;\n",
       "    }\n",
       "</style>\n",
       "<table border=\"1\" class=\"dataframe\">\n",
       "  <thead>\n",
       "    <tr style=\"text-align: right;\">\n",
       "      <th></th>\n",
       "      <th>Name</th>\n",
       "      <th>Height</th>\n",
       "      <th>Age</th>\n",
       "      <th>Age</th>\n",
       "      <th>Qualification</th>\n",
       "    </tr>\n",
       "  </thead>\n",
       "  <tbody>\n",
       "    <tr>\n",
       "      <th>0</th>\n",
       "      <td>Jai</td>\n",
       "      <td>5.1</td>\n",
       "      <td>21</td>\n",
       "      <td>21</td>\n",
       "      <td>Msc</td>\n",
       "    </tr>\n",
       "    <tr>\n",
       "      <th>1</th>\n",
       "      <td>Princi</td>\n",
       "      <td>6.2</td>\n",
       "      <td>23</td>\n",
       "      <td>23</td>\n",
       "      <td>MA</td>\n",
       "    </tr>\n",
       "    <tr>\n",
       "      <th>2</th>\n",
       "      <td>Gaurav</td>\n",
       "      <td>5.1</td>\n",
       "      <td>24</td>\n",
       "      <td>24</td>\n",
       "      <td>Msc</td>\n",
       "    </tr>\n",
       "    <tr>\n",
       "      <th>3</th>\n",
       "      <td>Anuj</td>\n",
       "      <td>5.2</td>\n",
       "      <td>21</td>\n",
       "      <td>21</td>\n",
       "      <td>Msc</td>\n",
       "    </tr>\n",
       "  </tbody>\n",
       "</table>\n",
       "</div>"
      ],
      "text/plain": [
       "     Name  Height  Age  Age Qualification\n",
       "0     Jai     5.1   21   21           Msc\n",
       "1  Princi     6.2   23   23            MA\n",
       "2  Gaurav     5.1   24   24           Msc\n",
       "3    Anuj     5.2   21   21           Msc"
      ]
     },
     "execution_count": 134,
     "metadata": {},
     "output_type": "execute_result"
    }
   ],
   "source": [
    "df.insert(2, \"Age\", [21, 23, 24, 21], True)\n",
    "df"
   ]
  },
  {
   "cell_type": "code",
   "execution_count": 135,
   "id": "4641a0e1",
   "metadata": {},
   "outputs": [
    {
     "data": {
      "text/html": [
       "<div>\n",
       "<style scoped>\n",
       "    .dataframe tbody tr th:only-of-type {\n",
       "        vertical-align: middle;\n",
       "    }\n",
       "\n",
       "    .dataframe tbody tr th {\n",
       "        vertical-align: top;\n",
       "    }\n",
       "\n",
       "    .dataframe thead th {\n",
       "        text-align: right;\n",
       "    }\n",
       "</style>\n",
       "<table border=\"1\" class=\"dataframe\">\n",
       "  <thead>\n",
       "    <tr style=\"text-align: right;\">\n",
       "      <th></th>\n",
       "      <th>col1</th>\n",
       "      <th>col2</th>\n",
       "      <th>col3</th>\n",
       "      <th>col4</th>\n",
       "      <th>col5</th>\n",
       "      <th>col6</th>\n",
       "    </tr>\n",
       "  </thead>\n",
       "  <tbody>\n",
       "    <tr>\n",
       "      <th>A</th>\n",
       "      <td>0.535714</td>\n",
       "      <td>-0.821811</td>\n",
       "      <td>-1.506706</td>\n",
       "      <td>1.769900</td>\n",
       "      <td>0.785806</td>\n",
       "      <td>NaN</td>\n",
       "    </tr>\n",
       "    <tr>\n",
       "      <th>B</th>\n",
       "      <td>0.551149</td>\n",
       "      <td>1.276370</td>\n",
       "      <td>-0.804065</td>\n",
       "      <td>1.028618</td>\n",
       "      <td>-0.757011</td>\n",
       "      <td>NaN</td>\n",
       "    </tr>\n",
       "    <tr>\n",
       "      <th>C</th>\n",
       "      <td>NaN</td>\n",
       "      <td>NaN</td>\n",
       "      <td>NaN</td>\n",
       "      <td>NaN</td>\n",
       "      <td>NaN</td>\n",
       "      <td>NaN</td>\n",
       "    </tr>\n",
       "    <tr>\n",
       "      <th>D</th>\n",
       "      <td>-0.603195</td>\n",
       "      <td>1.001072</td>\n",
       "      <td>0.843948</td>\n",
       "      <td>-0.266817</td>\n",
       "      <td>-0.711135</td>\n",
       "      <td>NaN</td>\n",
       "    </tr>\n",
       "    <tr>\n",
       "      <th>E</th>\n",
       "      <td>-0.881889</td>\n",
       "      <td>0.338534</td>\n",
       "      <td>0.874096</td>\n",
       "      <td>0.426938</td>\n",
       "      <td>1.455454</td>\n",
       "      <td>NaN</td>\n",
       "    </tr>\n",
       "    <tr>\n",
       "      <th>F</th>\n",
       "      <td>-0.904507</td>\n",
       "      <td>1.142065</td>\n",
       "      <td>-0.808603</td>\n",
       "      <td>0.146420</td>\n",
       "      <td>1.309232</td>\n",
       "      <td>NaN</td>\n",
       "    </tr>\n",
       "  </tbody>\n",
       "</table>\n",
       "</div>"
      ],
      "text/plain": [
       "       col1      col2      col3      col4      col5  col6\n",
       "A  0.535714 -0.821811 -1.506706  1.769900  0.785806   NaN\n",
       "B  0.551149  1.276370 -0.804065  1.028618 -0.757011   NaN\n",
       "C       NaN       NaN       NaN       NaN       NaN   NaN\n",
       "D -0.603195  1.001072  0.843948 -0.266817 -0.711135   NaN\n",
       "E -0.881889  0.338534  0.874096  0.426938  1.455454   NaN\n",
       "F -0.904507  1.142065 -0.808603  0.146420  1.309232   NaN"
      ]
     },
     "execution_count": 135,
     "metadata": {},
     "output_type": "execute_result"
    }
   ],
   "source": [
    "new_columns = ['col1','col2','col3','col4','col5','col6']\n",
    "dframe2.reindex(columns=new_columns)"
   ]
  },
  {
   "cell_type": "code",
   "execution_count": 138,
   "id": "9012a142",
   "metadata": {},
   "outputs": [
    {
     "data": {
      "text/html": [
       "<div>\n",
       "<style scoped>\n",
       "    .dataframe tbody tr th:only-of-type {\n",
       "        vertical-align: middle;\n",
       "    }\n",
       "\n",
       "    .dataframe tbody tr th {\n",
       "        vertical-align: top;\n",
       "    }\n",
       "\n",
       "    .dataframe thead th {\n",
       "        text-align: right;\n",
       "    }\n",
       "</style>\n",
       "<table border=\"1\" class=\"dataframe\">\n",
       "  <thead>\n",
       "    <tr style=\"text-align: right;\">\n",
       "      <th></th>\n",
       "      <th>pop</th>\n",
       "      <th>size</th>\n",
       "      <th>year</th>\n",
       "    </tr>\n",
       "  </thead>\n",
       "  <tbody>\n",
       "    <tr>\n",
       "      <th>SF</th>\n",
       "      <td>0</td>\n",
       "      <td>1</td>\n",
       "      <td>2</td>\n",
       "    </tr>\n",
       "    <tr>\n",
       "      <th>LA</th>\n",
       "      <td>3</td>\n",
       "      <td>4</td>\n",
       "      <td>5</td>\n",
       "    </tr>\n",
       "    <tr>\n",
       "      <th>NY</th>\n",
       "      <td>6</td>\n",
       "      <td>7</td>\n",
       "      <td>8</td>\n",
       "    </tr>\n",
       "  </tbody>\n",
       "</table>\n",
       "</div>"
      ],
      "text/plain": [
       "    pop  size  year\n",
       "SF    0     1     2\n",
       "LA    3     4     5\n",
       "NY    6     7     8"
      ]
     },
     "execution_count": 138,
     "metadata": {},
     "output_type": "execute_result"
    }
   ],
   "source": [
    "dframe1 = DataFrame(np.arange(9).reshape((3,3)),index=['SF','LA','NY'],columns=['pop','size','year'])\n",
    "dframe1"
   ]
  },
  {
   "cell_type": "code",
   "execution_count": 140,
   "id": "314a6204",
   "metadata": {},
   "outputs": [
    {
     "data": {
      "text/html": [
       "<div>\n",
       "<style scoped>\n",
       "    .dataframe tbody tr th:only-of-type {\n",
       "        vertical-align: middle;\n",
       "    }\n",
       "\n",
       "    .dataframe tbody tr th {\n",
       "        vertical-align: top;\n",
       "    }\n",
       "\n",
       "    .dataframe thead th {\n",
       "        text-align: right;\n",
       "    }\n",
       "</style>\n",
       "<table border=\"1\" class=\"dataframe\">\n",
       "  <thead>\n",
       "    <tr style=\"text-align: right;\">\n",
       "      <th></th>\n",
       "      <th>col1</th>\n",
       "      <th>col2</th>\n",
       "      <th>col3</th>\n",
       "      <th>col4</th>\n",
       "      <th>col5</th>\n",
       "    </tr>\n",
       "  </thead>\n",
       "  <tbody>\n",
       "    <tr>\n",
       "      <th>A</th>\n",
       "      <td>0.535714</td>\n",
       "      <td>-0.821811</td>\n",
       "      <td>-1.506706</td>\n",
       "      <td>1.769900</td>\n",
       "      <td>0.785806</td>\n",
       "    </tr>\n",
       "    <tr>\n",
       "      <th>B</th>\n",
       "      <td>0.551149</td>\n",
       "      <td>1.276370</td>\n",
       "      <td>-0.804065</td>\n",
       "      <td>1.028618</td>\n",
       "      <td>-0.757011</td>\n",
       "    </tr>\n",
       "    <tr>\n",
       "      <th>D</th>\n",
       "      <td>-0.603195</td>\n",
       "      <td>1.001072</td>\n",
       "      <td>0.843948</td>\n",
       "      <td>-0.266817</td>\n",
       "      <td>-0.711135</td>\n",
       "    </tr>\n",
       "    <tr>\n",
       "      <th>E</th>\n",
       "      <td>-0.881889</td>\n",
       "      <td>0.338534</td>\n",
       "      <td>0.874096</td>\n",
       "      <td>0.426938</td>\n",
       "      <td>1.455454</td>\n",
       "    </tr>\n",
       "    <tr>\n",
       "      <th>F</th>\n",
       "      <td>-0.904507</td>\n",
       "      <td>1.142065</td>\n",
       "      <td>-0.808603</td>\n",
       "      <td>0.146420</td>\n",
       "      <td>1.309232</td>\n",
       "    </tr>\n",
       "  </tbody>\n",
       "</table>\n",
       "</div>"
      ],
      "text/plain": [
       "       col1      col2      col3      col4      col5\n",
       "A  0.535714 -0.821811 -1.506706  1.769900  0.785806\n",
       "B  0.551149  1.276370 -0.804065  1.028618 -0.757011\n",
       "D -0.603195  1.001072  0.843948 -0.266817 -0.711135\n",
       "E -0.881889  0.338534  0.874096  0.426938  1.455454\n",
       "F -0.904507  1.142065 -0.808603  0.146420  1.309232"
      ]
     },
     "execution_count": 140,
     "metadata": {},
     "output_type": "execute_result"
    }
   ],
   "source": [
    "dframe1.drop('LA')\n",
    "dframe1.drop('year',axis=1)\n",
    "dframe "
   ]
  },
  {
   "cell_type": "markdown",
   "id": "37849f9b",
   "metadata": {},
   "source": [
    "# Differences between DataFrame and Series"
   ]
  },
  {
   "cell_type": "code",
   "execution_count": null,
   "id": "870e4c47",
   "metadata": {},
   "outputs": [],
   "source": [
    "DataFrame can have multiple columns,\n",
    "DataFrame can store more complex and heterogeneous data,\n",
    "DataFrame can have different data types for each column,\n",
    "DataFrame can handle mixed data types, such as numbers, strings, booleans, or dates,\n",
    "DataFrames are designed for handling structured, tabular data with multiple variables\n",
    "andas DataFrame is a 2D size-mutable, potentially heterogeneous tabular data structure with labelled axes (rows and columns). It is aligned in a tabular fashion in rows and columns.\n",
    "Pandas DataFrame consists of three principal components, the data, rows, and columns. "
   ]
  },
  {
   "cell_type": "code",
   "execution_count": 158,
   "id": "a1ed51eb",
   "metadata": {},
   "outputs": [
    {
     "name": "stdout",
     "output_type": "stream",
     "text": [
      "DataFrame:\n",
      "    Name  Age  Gender\n",
      "0    Ali   25    Male\n",
      "1  Ahmed   30    Male\n",
      "2   Sara   28  Female\n",
      "Name      object\n",
      "Age        int64\n",
      "Gender    object\n",
      "dtype: object\n"
     ]
    }
   ],
   "source": [
    "data = {\n",
    "    'Name': ['Ali', 'Ahmed', 'Sara'],\n",
    "    'Age': [25, 30, 28],\n",
    "    'Gender': ['Male', 'Male', 'Female']\n",
    "    }\n",
    "df = pd.DataFrame(data)\n",
    "print(\"DataFrame:\")\n",
    "print(df)\n",
    "print(df.dtypes)"
   ]
  },
  {
   "cell_type": "code",
   "execution_count": null,
   "id": "93f1e092",
   "metadata": {},
   "outputs": [],
   "source": [
    "while a Series can only have one.\n",
    "while a Series can store more simple and homogeneous data.  \n",
    "Series can only have one data type for the whole array. \n",
    "Series can only handle one data type at a time\n",
    "while Series are more suited for representing and manipulating single columns of data\n",
    "Pandas Series is a 1D labelled array capable of holding data of any type (integer, string, float, python objects, etc.).\n",
    "The axis labels are collectively called index. It is like a column in excel."
   ]
  },
  {
   "cell_type": "code",
   "execution_count": 144,
   "id": "68940fec",
   "metadata": {},
   "outputs": [
    {
     "name": "stdout",
     "output_type": "stream",
     "text": [
      "\n",
      "Series:\n",
      "0    25\n",
      "1    30\n",
      "2    28\n",
      "dtype: int64\n"
     ]
    }
   ],
   "source": [
    "ages = pd.Series([25, 30, 28])\n",
    "print(\"\\nSeries:\")\n",
    "print(ages)"
   ]
  },
  {
   "cell_type": "code",
   "execution_count": 150,
   "id": "6653d861",
   "metadata": {},
   "outputs": [
    {
     "name": "stdout",
     "output_type": "stream",
     "text": [
      "0    1000\n",
      "1    3000\n",
      "2    4000\n",
      "3    5000\n",
      "dtype: int64\n"
     ]
    }
   ],
   "source": [
    "data = [1000, 3000, 4000, 5000]\n",
    "s = pd.Series(data)\n",
    "print(s)"
   ]
  },
  {
   "cell_type": "code",
   "execution_count": 153,
   "id": "86392b37",
   "metadata": {},
   "outputs": [
    {
     "name": "stdout",
     "output_type": "stream",
     "text": [
      "a    1\n",
      "b    2\n",
      "c    3\n",
      "d    4\n",
      "dtype: int64\n"
     ]
    }
   ],
   "source": [
    "data = pd.Series([1, 2, 3, 4], index=['a', 'b', 'c', 'd'])\n",
    "print(data)"
   ]
  },
  {
   "cell_type": "code",
   "execution_count": 159,
   "id": "37b48486",
   "metadata": {},
   "outputs": [
    {
     "name": "stdout",
     "output_type": "stream",
     "text": [
      "Fruit series:\n",
      "0     apples\n",
      "1    oranges\n",
      "2    bananas\n",
      "dtype: object\n",
      "\n",
      "Temperature series:\n",
      "0    32.6\n",
      "1    34.1\n",
      "2    28.0\n",
      "3    35.9\n",
      "dtype: float64\n",
      "\n",
      "Factors of 12 series:\n",
      "0     1\n",
      "1     2\n",
      "2     4\n",
      "3     6\n",
      "4    12\n",
      "dtype: int64\n",
      "Type of this data structure is: <class 'pandas.core.series.Series'>\n"
     ]
    }
   ],
   "source": [
    "import pandas  \n",
    "##### INTIALIZATION #####  \n",
    "#STRING SERIES  \n",
    "fruits = pandas.Series([\"apples\", \"oranges\", \"bananas\"])  \n",
    "print(\"Fruit series:\")  \n",
    "print(fruits)  \n",
    "#FLOAT SERIES  \n",
    "temperature = pandas.Series([32.6, 34.1, 28.0, 35.9])  \n",
    "print(\"\\nTemperature series:\")  \n",
    "print(temperature)  \n",
    "#INTEGER SERIES  \n",
    "factors_of_12 = pandas.Series([1,2,4,6,12])  \n",
    "print(\"\\nFactors of 12 series:\")  \n",
    "print(factors_of_12)  \n",
    "print(\"Type of this data structure is:\", type(factors_of_12)) "
   ]
  },
  {
   "cell_type": "code",
   "execution_count": 160,
   "id": "cb97c98b",
   "metadata": {},
   "outputs": [
    {
     "name": "stdout",
     "output_type": "stream",
     "text": [
      "Fruit series:\n",
      "4     apples\n",
      "3    oranges\n",
      "2    bananas\n",
      "dtype: object\n",
      "\n",
      "Temperature series:\n",
      "one      32.6\n",
      "two      34.1\n",
      "three    28.0\n",
      "four     35.9\n",
      "dtype: float64\n",
      "\n",
      "Factors of 12 series:\n",
      "1     1\n",
      "1     2\n",
      "2     4\n",
      "2     6\n",
      "3    12\n",
      "dtype: int64\n",
      "Type of this data structure is: <class 'pandas.core.series.Series'>\n"
     ]
    }
   ],
   "source": [
    "import pandas \n",
    "# Integer indices \n",
    "fruits = pandas.Series([\"apples\", \"oranges\", \"bananas\"], index=[4, 3, 2]) \n",
    "print(\"Fruit series:\") \n",
    "print(fruits) \n",
    "# String indices \n",
    "temperature = pandas.Series([32.6, 34.1, 28.0, 35.9], index=[\"one\", \"two\", \"three\", \"four\"]) \n",
    "print(\"\\nTemperature series:\") \n",
    "print(temperature) \n",
    "# Non-unique index values \n",
    "factors_of_12 = pandas.Series([1,2,4,6,12], index=[1, 1, 2, 2, 3]) \n",
    "print(\"\\nFactors of 12 series:\") \n",
    "print(factors_of_12) \n",
    "print(\"Type of this data structure is:\", type(factors_of_12)) "
   ]
  },
  {
   "cell_type": "code",
   "execution_count": 161,
   "id": "0e87caf6",
   "metadata": {},
   "outputs": [
    {
     "name": "stdout",
     "output_type": "stream",
     "text": [
      "Matrix:\n",
      "[[1 2 3]\n",
      " [4 5 6]]\n"
     ]
    }
   ],
   "source": [
    "import numpy as np\n",
    "\n",
    "# Creating a 2x3 matrix using a nested list\n",
    "matrix = np.array([[1, 2, 3],\n",
    "                   [4, 5, 6]])\n",
    "print(\"Matrix:\")\n",
    "print(matrix)"
   ]
  },
  {
   "cell_type": "code",
   "execution_count": 163,
   "id": "9bb81683",
   "metadata": {},
   "outputs": [
    {
     "name": "stdout",
     "output_type": "stream",
     "text": [
      "Array: [1 2 3 4 5]\n"
     ]
    }
   ],
   "source": [
    "import numpy as np\n",
    "\n",
    "# Creating a NumPy array\n",
    "arr = np.array([1, 2, 3, 4, 5])\n",
    "print(\"Array:\", arr)\n"
   ]
  }
 ],
 "metadata": {
  "kernelspec": {
   "display_name": "Python 3 (ipykernel)",
   "language": "python",
   "name": "python3"
  },
  "language_info": {
   "codemirror_mode": {
    "name": "ipython",
    "version": 3
   },
   "file_extension": ".py",
   "mimetype": "text/x-python",
   "name": "python",
   "nbconvert_exporter": "python",
   "pygments_lexer": "ipython3",
   "version": "3.11.5"
  }
 },
 "nbformat": 4,
 "nbformat_minor": 5
}
